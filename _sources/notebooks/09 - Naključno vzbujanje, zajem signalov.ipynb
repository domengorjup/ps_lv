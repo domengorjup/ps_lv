{
 "cells": [
  {
   "cell_type": "code",
   "execution_count": 1,
   "metadata": {
    "tags": [
     "hide-input"
    ]
   },
   "outputs": [],
   "source": [
    "import numpy as np\n",
    "from scipy import signal\n",
    "import matplotlib.pyplot as plt"
   ]
  },
  {
   "cell_type": "markdown",
   "metadata": {},
   "source": [
    "# Naključno vzbujanje - zajem signalov"
   ]
  },
  {
   "cell_type": "markdown",
   "metadata": {},
   "source": [
    "Spomnimo se:"
   ]
  },
  {
   "cell_type": "markdown",
   "metadata": {},
   "source": [
    ":::{note}\n",
    "\n",
    "**Frekvenčna prenosna funkcija** $\\alpha(\\omega)$ predstavlja razmerje med (kompleksnimi) amplitudami harmonskega odziva in vzbujana opazovanega sistema:\n",
    "\n",
    "$$\n",
    "\t\\alpha(\\omega) = \\frac{X(\\omega)}{F(\\omega)}\n",
    "$$\n",
    "\n",
    ":::"
   ]
  },
  {
   "cell_type": "markdown",
   "metadata": {
    "tags": []
   },
   "source": [
    "## Zajem signalov za določitev prenosnih funkcij z naključnim vzbujanjem\n",
    "\n",
    "Določamo razmerje med odzivom sistema in znanim signlom vzbujanja, na podlagi izmerjenih signalov $x(t)$, $f(t)$ pri *naključnem, širokospektralnem, stacionarnem* vzbujanju.\n",
    "\n",
    "Namen te vaje je spoznati laboratorijsko opremo in izvesti meritve signalov, potrebnih za določitev prenosnih funkcij mehanskega LTI sistema."
   ]
  },
  {
   "cell_type": "markdown",
   "metadata": {},
   "source": [
    ":::{admonition} Naloga: Meritev prenosnih funkcij jeklenega nosilca\n",
    ":class: warning\n",
    "\n",
    "\n",
    "Pripravite zajemni sistem in opravite meritve odziva (pospeška) jeklenega nosilca na naključno vzbujanje. \n",
    "\n",
    "Vsak naj izvede **meritev odziva (pospšeka) nosilca v točki, podani v tabeli podatkov**, ki jo najdete v e-učilnici. \n",
    "\n",
    "Strukturo vzbujamo z naključnim širokospektralnim profilom na elektrodinamskem stresalniku preko povezovalne palice (*stingerja*), v pripravljeni točki $0$.\n",
    "\n",
    "Delo v laboratoriju bo potekalo **skupinsko**. Nalogo sestavljajo trije vsebinski deli, ki so podrobneje opisani spodaj:\n",
    "\n",
    "1. Postavitev in povezava merilne opreme.\n",
    "2. Priprava NI MAX + Python programa za generiranje in zajem signalov.\n",
    "3. Meritev signalov vzbujevalne sile in odziva sistema v različnih točkah pri naključnem vzbujanju.\n",
    "\n",
    ":::"
   ]
  },
  {
   "cell_type": "markdown",
   "metadata": {},
   "source": [
    "### Merilni sistem\n",
    "\n",
    "Merilna veriga je sestavljena iz naslednjih komponent:"
   ]
  },
  {
   "cell_type": "markdown",
   "metadata": {},
   "source": [
    "* Jeklen nosilec:\n",
    "    * Dolžina: 500 mm.\n",
    "    * 11 označenih merilnih mest (na pozicijah $[25, 475]$ mm, razmik $45$ mm).\n",
    "    * Vzbujanje na lokaciji $0$, meritve odziva na lokacijah $i \\in [1, 2, \\dots 10]$."
   ]
  },
  {
   "cell_type": "markdown",
   "metadata": {},
   "source": [
    "\n",
    "* Zajemna (AI) kartica [NI 9234](https://www.ni.com/sl-si/support/model.ni-9234.html):\n",
    "    * 4 analogni vhodni kanali (BNC priključek).\n",
    "    * $\\pm$ 5 V.\n",
    "    * Frekvenca vzorčenja do 51200 Hz (dovoljene vrednosti: $51200 / n$, $n \\in [1, 2, 3, \\dots, 31]$).\n",
    "    * 24-bitna ločljvost.\n"
   ]
  },
  {
   "cell_type": "markdown",
   "metadata": {},
   "source": [
    "\n",
    "* Vzbujevlana (AO) kartica [NI 9263](https://www.ni.com/sl-si/support/model.ni-9263.html):\n",
    "    * 4 analogni izhodni kanali.\n",
    "    * $\\pm$ 10 V.\n",
    "    * Frekvenca vzorčenja do 100 000 Hz.\n",
    "    * 16-bitna ločljvost.\n"
   ]
  },
  {
   "cell_type": "markdown",
   "metadata": {},
   "source": [
    "\n",
    "* Silomer [PCB 208C01](https://www.pcb.com/products?model=208c01):\n",
    "    * IEPE silomer.\n",
    "    * BNC povezava z analognim vhodom merilne kartice.\n",
    "    * Merilno območje: $\\pm$ 4.4 N.\n",
    "    * Občutljivost: podatek na škatli instrumenta.\n"
   ]
  },
  {
   "cell_type": "markdown",
   "metadata": {},
   "source": [
    "* Pospeškomer [PCB  333B30](https://www.pcb.com/products?model=333B30):\n",
    "    * IEPE pospeškomer.\n",
    "    * BNC povezava z analognim vhodom merilne kartice.\n",
    "    * Merilno območje: $\\pm$ 490 $m/s^2$.\n",
    "    * Občutljivost: podatek na škatli instrumenta.\n"
   ]
  },
  {
   "cell_type": "markdown",
   "metadata": {},
   "source": [
    "* Elektrodinamski stresalnik.\n",
    "    * Povezava s strukturo preko povezovalne palice (*stingerja*)."
   ]
  },
  {
   "cell_type": "markdown",
   "metadata": {},
   "source": [
    "* Analogni visokoprepustni filter.\n",
    "    * frekvenca odreza: 2.8 Hz"
   ]
  },
  {
   "cell_type": "markdown",
   "metadata": {},
   "source": [
    "* AC Ojačevalnik analognega signala.\n",
    "    * največja dopustna vhodna napetost: $\\pm 1$ V (**ustrezno nastavite največjo napetost izhodnega kanala AO kartice!**)\n",
    "\n",
    "    **V izogib poškodbam merilne opreme pred meritvijo ojačanje napajalnika postavite na 0!** \n",
    "    \n",
    "    Ustrenzo nastavitev ojačanja poiščite pred začetkom meritve."
   ]
  },
  {
   "cell_type": "markdown",
   "metadata": {},
   "source": [
    "* Merilni osebni računalnik (USB povezava)."
   ]
  },
  {
   "cell_type": "markdown",
   "metadata": {},
   "source": [
    ":::{admonition} 1. Postavitev merilne verige\n",
    ":class: important\n",
    "\n",
    "Povežite merilno verigo zajemnega sistema. Pomagajte si z zgornjim opisom meirlne opreme ter spodnjo sliko.\n",
    "\n",
    "Pri povezavi merilnih zaznaval (pospeškomer, silomer) na merilno kartico lahko uporabite poljubne vhodne kanale. Poskrbite, da boste izbiro upoštevali pri nastavitvi opraivil strojne opreme v aplikaciji NI MAX.\n",
    "\n",
    "![zajemni-sistem](./images/09/00_zajemni_sistem.png)\n",
    "\n",
    ":::"
   ]
  },
  {
   "cell_type": "markdown",
   "metadata": {},
   "source": [
    ":::{admonition} 2. Priprava programa meritve\n",
    ":class: important\n",
    "\n",
    "Meritev (generiranje signala vzbujanja in zajem) bomo krmilili v programskem jeziku Python, za komunikacijo z NI merilno opremo pa bomo uporaibili paket [PyDAQmx](https://pythonhosted.org/PyDAQmx/) in vnaprej konfigurirana opravila (*task*-e) za upravljanje strojne opreme z aplikacijo National Instruments Automation explorer ([NI MAX](https://www.ni.com/sl-si/support/documentation/supplemental/21/what-is-ni-measurement---automation-explorer--ni-max--.html)).\n",
    "\n",
    "\n",
    "Preden lahko v Pythonu vzpostavimo povezavo z merilno opremo, moramo ustrenzo konfigurirati opravila znotraj NI MAX.\n",
    "\n",
    "![NIMAX](./images/09/01_NIMAX_zagon.png)\n",
    "\n",
    "V aplikaciji NI MAX sta že pripravljeni opravili za zajem (`PS_random_input`) in generiranje (`PS_random_output`) signalov.\n",
    "Preverite, da nastavitve opravil ustrezajo predpisanim parametrom zajema in generiranja podakotv:\n",
    "\n",
    "Glavne nastavitve **zajema** so:\n",
    "* Dva kanala: *sila* in *pospešek* (IEPE).\n",
    "* Frekvenca vzorčenja: 25600 Hz,\n",
    "* Trajanje vsakega zajetega segmenta: 2 s,\n",
    "* Kontinuirano zajemanje segmentov (`Continuous Samples`),\n",
    "* Število zajetih segmentov: 5.\n",
    "\n",
    "![input_task](./images/09/02_input_task.png)\n",
    "\n",
    "\n",
    "Glavne nastavitve **generiranja** so:\n",
    "* Ena kanal: *naetost* signala na stresalniku.\n",
    "* Število vzorcev v sekundi: 20000 Hz\n",
    "* Trajanje vsakega generirranega segmenta: 2 s,\n",
    "* Kontinuirano generiranje segmentov (`Continuous Samples`).\n",
    "* Profil naključnega vzbujevlanega signala konstantne amplitude na območju $[10, 3000] Hz$,\n",
    "* Povprečne amplitude vzbujevalne sile: **1 N RMS**.\n",
    "\n",
    "![output_task](./images/09/03_output_task.png)\n",
    "\n",
    "\n",
    "**Python Program** naj v zanki:\n",
    "* V zanki (za vsak zajeti segment):\n",
    "    * Z uporabo paketa `PyDAQmx` zajema kanale segmenta,\n",
    "    * Za vsak segment prikazuje graf zajetih signalov v času in PSD-ja signalov.\n",
    "* Po koncu meritve (ko so zajeti vsi segmenti):\n",
    "    * Shrani zajete podatke v datoteko poljubnega formata.\n",
    "\n",
    "Uporabite lahko že pripravljen {download}`Python program zajema<./data/09/meritev_python.zip>`. Po potrebi ga spremenite, da bodo parametri meritve ustrezali predpisanim (zgoraj).\n",
    "\n",
    "**Pozor:** Vse nastavitve parametrov merilne opreme (nastavitev kanalov, občutjivost, frekenca vzorčenja, enote, št. vzorcev v segmentu) nastavite v NI MAX task-u! V Python programu nastavite parametre, povezane z obdelavo signalov (št. zajetih segmentov, profil signala vzbujanja, shranjevanje podatkov v datoteke).\n",
    "\n",
    ":::\n"
   ]
  },
  {
   "cell_type": "markdown",
   "metadata": {},
   "source": [
    "### Meritev"
   ]
  },
  {
   "cell_type": "markdown",
   "metadata": {},
   "source": [
    ":::{admonition} 3. Izvedba meritve signalov\n",
    ":class: important\n",
    "\n",
    "Vsak naj zajame predpisano število segmentov meritve odziva sistema v točki, predpisani v podatih naloge.\n",
    "\n",
    "Ker uporabljamo eno samo zaznavalo pospeška, je treba tega pred meritvijo namestiti na ustrezno merilno mesto. Za pritrditev uporabite majhno količino voščenega lepila.\n",
    "\n",
    "![wax](./images/09/05_UJ_0216_Beeswax.png)\n",
    "\n",
    "*Pred začetkom meritve nastavite ojačanaje ojačevalnika signla tako, da boste v meritvi dosegli predpisano povprečno amplitudo sile (1 N RMS)!* **Preliminarno meritev začnite z ojačanjem 0, in tega ustrezno povečajte.**\n",
    "\n",
    "Ko ste ustrezno nastaivli merilni sistem, NI MAX opravila in parametre Python programa, meritev poženete z zagonom funkcije `IO_meritev()` v poglavju \"Meritev\" Python programa.\n",
    "\n",
    "Pri izvajanju meritve poskrbite, da:\n",
    "* je pospeškomer nameščen na ustrenzno merilno mesto,\n",
    "* je največja amplituda generiranega signala v dopustnih mejah $\\pm 1$ V,\n",
    "* je ojačanje napajalnika nastavljeno tako, da vzbujate z ustreno amplitudo sile,\n",
    "* ste zajeli ustrezno število segmentov meritve,\n",
    "* zajete podatke shranite tako, da jih boste lahko kasneje odpirali in obdelali v Pythonu.\n",
    "\n",
    ":::"
   ]
  },
  {
   "cell_type": "markdown",
   "metadata": {},
   "source": [
    "## Cenilke frekvenčne prenosne funkcije"
   ]
  },
  {
   "cell_type": "markdown",
   "metadata": {},
   "source": [
    "Pri realnih meritvah se no moremo izogniti naključnega šuma (merilne napake) v zajetieh signalih. \n",
    "\n",
    "Ob upoštevanju odziva LTI sistmeov na naklučno vzbujanje z merilno napako, lahko zapišemo različne cenilke frekvenčnih prenosnih funkcij:"
   ]
  },
  {
   "cell_type": "markdown",
   "metadata": {},
   "source": [
    ":::{note}\n",
    "\n",
    "Cenilka $H_1(\\omega)$ prepostavlja nezanemarljivo količino naključnega šuma pri meritvi signala *odziva* $x(t)$. Izračunamo jo:\n",
    "\n",
    "$$\n",
    "\\begin{equation}\n",
    "H_1(\\omega) = \\frac{S_{fx}(\\omega)}{S{ff }(\\omega)}.\n",
    "\\end{equation}\n",
    "$$\n",
    "\n",
    ":::"
   ]
  },
  {
   "cell_type": "markdown",
   "metadata": {},
   "source": [
    ":::{note}\n",
    "\n",
    "Cenilka $H_2(\\omega)$ prepostavlja nezanemarljivo količino naključnega šuma pri meritvi signala *vzbujanja* $f(t)$. Izračunamo jo:\n",
    "\n",
    "$$\n",
    "\\begin{equation}\n",
    "H_2(\\omega) = \\frac{S_{xx}(\\omega)}{S{xf}(\\omega)}.\n",
    "\\end{equation}\n",
    "$$\n",
    "\n",
    ":::"
   ]
  },
  {
   "cell_type": "markdown",
   "metadata": {},
   "source": [
    ":::{note}\n",
    "\n",
    "Kvaliteto meritve lahko ocenimo s **koherenco**. Ta je definirana kot:\n",
    "\n",
    "$$\n",
    "\\gamma_{fx}^2(f)=\\frac{|G_{fx}(f)|^2}{G_{ff}(f)\\,G_{xx}(f)}\n",
    "=\\frac{|S_{fx}(f)|^2}{S_{ff}(f)\\,S_{xx}(f)}\n",
    "= \\frac{H_1(\\omega)}{H_2(\\omega)}\n",
    "$$\n",
    "\n",
    "\n",
    "Koherenca ima vrednosti na območju $\\gamma_{fx}^2(f) \\in [0, 1]$. Podaja merilo linearne odvisnosti signalov na vhodu (vzbujanje, $f$) in izhodu (odziv, $x$) sistema. \n",
    "\n",
    "**Pozor:** Izračun koherence je smiselen samo, če so spektralne gostote moči $S_{fx}$, $S_{xx}$, $S_{ff}$ določene s povprečenjem več zajtih segmentov naključnega procesa!\n",
    "\n",
    ":::"
   ]
  },
  {
   "cell_type": "markdown",
   "metadata": {},
   "source": [
    "### Izračun povprečenih spektralnih gostot moči z Welchevo metodo"
   ]
  },
  {
   "cell_type": "markdown",
   "metadata": {},
   "source": [
    "[Welcheva metoda](https://en.wikipedia.org/wiki/Welch%27s_method) določi (križne in avto-) spektralne gostote moči signalov z uporabo povprečenja in oknjenja podanega signala, segmentiranega s prekrivanjem posameznih odsekov.\n",
    "\n",
    "V Scipy je implementirana v [`scipy.signal.csd`](https://docs.scipy.org/doc/scipy/reference/generated/scipy.signal.csd.html) (križno-spektralna gostota moči) [`scipy.signal.welch`](https://docs.scipy.org/doc/scipy/reference/generated/scipy.signal.welch.html) (avtospektralna gostota moči). Glavni parametri `scipy.signal.csd` so:\n",
    "* `x` : prvi signal.\n",
    "* `y` : drugi signal.\n",
    "* `fs` : frekvenca vzorčenja signalov `x` in `y`,\n",
    "* `window` : okno, ki naj se uporabi na posameznem segmentu. Privzeto `\"Hann\"`.\n",
    "* `nperseg` : dolžina posameznega odseka signala pri segmentiranju,\n",
    "* `noverlap` : število vzorcev, ki se med segmenti prekrivajo. Prvizezo polovica `nperseg`."
   ]
  },
  {
   "cell_type": "markdown",
   "metadata": {},
   "source": [
    "Primer uporabe:"
   ]
  },
  {
   "cell_type": "code",
   "execution_count": 2,
   "metadata": {},
   "outputs": [],
   "source": [
    "from scipy.signal import csd"
   ]
  },
  {
   "cell_type": "code",
   "execution_count": 11,
   "metadata": {},
   "outputs": [],
   "source": [
    "f = 7.5 # Hz\n",
    "T = 10 # s\n",
    "fs = 100"
   ]
  },
  {
   "cell_type": "code",
   "execution_count": 12,
   "metadata": {},
   "outputs": [],
   "source": [
    "t = np.arange(fs*T) / fs\n",
    "x = np.sin(2*np.pi*f*t) + np.random.randn(len(t))*0.5\n",
    "y = np.sin(2*np.pi*f*t + np.pi/2) + np.random.randn(len(t))*0.5"
   ]
  },
  {
   "cell_type": "code",
   "execution_count": 13,
   "metadata": {
    "tags": [
     "hide-input"
    ]
   },
   "outputs": [
    {
     "data": {
      "image/png": "[encoded data removed]",
      "text/plain": [
       "<Figure size 432x288 with 1 Axes>"
      ]
     },
     "metadata": {
      "needs_background": "light"
     },
     "output_type": "display_data"
    }
   ],
   "source": [
    "plt.figure()\n",
    "plt.plot(t, x, label='x(t)')\n",
    "plt.plot(t, y, label='y(t)')\n",
    "plt.xlabel('t [s]')\n",
    "plt.ylabel('x, y [/]');"
   ]
  },
  {
   "cell_type": "code",
   "execution_count": 14,
   "metadata": {},
   "outputs": [
    {
     "data": {
      "text/plain": [
       "0.5"
      ]
     },
     "execution_count": 14,
     "metadata": {},
     "output_type": "execute_result"
    }
   ],
   "source": [
    "freq, S_xy = csd(x, y, fs, window='hamming', nperseg=2*fs)\n",
    "df = freq[1] - freq[0]\n",
    "df"
   ]
  },
  {
   "cell_type": "code",
   "execution_count": 17,
   "metadata": {
    "tags": [
     "hide-input"
    ]
   },
   "outputs": [
    {
     "data": {
      "image/png": "[encoded data removed]",
      "text/plain": [
       "<Figure size 432x288 with 1 Axes>"
      ]
     },
     "metadata": {
      "needs_background": "light"
     },
     "output_type": "display_data"
    }
   ],
   "source": [
    "plt.semilogy(freq, np.abs(S_xy))\n",
    "plt.axvline(x=f, c='k', lw=1)\n",
    "plt.xlabel('f [Hz]')\n",
    "plt.ylabel('S_xy');"
   ]
  },
  {
   "cell_type": "markdown",
   "metadata": {},
   "source": [
    "## Domača naloga"
   ]
  },
  {
   "cell_type": "markdown",
   "metadata": {},
   "source": [
    ":::{admonition} Domača naloga\n",
    ":class: warning\n",
    "\n",
    "V okolju Jupyter Notebook pripravite kratko poročilo *(od 3 do 10 celic s kodo)* z rezultati in kratkim komentarjem meritev, ki ste jih izvedli na vaji, v katerem naj bodo razvidni podatki naloge. Poročilo naj vsebuje tudi:\n",
    "\n",
    "* prikaz časovne vrste ter amplitudnega spektra vaše meritve (pri vzbujanju v točki, podani v podatkih naloge),\n",
    "* prikaz frekvenčne prenosne funkcije v vaši izmerjeni točki ($i$), ki jo ocenite z $\\alpha_i(\\omega) = X_i(\\omega) / F_i(\\omega)$.\n",
    "* prikaz frekvenčne prenosne funkcije v vaši izmerjeni točki ($i$), izračunane s cenilko $H_1(\\omega)$. Pri tem povprečite spektre izmerjenih signalov, razdeljenih na segmente dolžine 2 s.\n",
    "\n",
    "\n",
    "**Dodatek**: \n",
    "* Izračunajte in prikažite obe cenilki frekvenčne prenosne funkcije ($H_1$, $H_2$). \n",
    "    * Križne- in avtospektre signalov pri tem izračunajte s povprečenjem z metodo Welch ([`scipy.signal.csd`](https://docs.scipy.org/doc/scipy/reference/generated/scipy.signal.csd.html)),\n",
    "    * posamezni segment Welch izračuna PSD in CSD naj bo $1 s$ zajetega signala, s 50% prekrivanjem segmentov,\n",
    "    * na posameznem segmentu naj se, za zagotavljanje predpostavke periodičnosti, uporabi [`Hamming`](https://docs.scipy.org/doc/scipy/reference/generated/scipy.signal.windows.hamming.html#scipy.signal.windows.hamming) okno.\n",
    "* Na kratko prikažite in komentirajte vpliv *dolžine segmenta* Welch metode ter *obliko uporabljenega okna*.\n",
    "* Izračunajte in prikažite tudi koherenco meritve FRF $\\gamma^2_{fx}(\\omega)$.\n",
    "\n",
    "Poročilo oddajte tudi v `.pdf` obliki (glejte [navodila za oddajo domačih nalog](intro-domace-naloge)).\n",
    "\n",
    ":::"
   ]
  }
 ],
 "metadata": {
  "kernelspec": {
   "display_name": "Python 3 (ipykernel)",
   "language": "python",
   "name": "python3"
  },
  "language_info": {
   "codemirror_mode": {
    "name": "ipython",
    "version": 3
   },
   "file_extension": ".py",
   "mimetype": "text/x-python",
   "name": "python",
   "nbconvert_exporter": "python",
   "pygments_lexer": "ipython3",
   "version": "3.10.1"
  }
 },
 "nbformat": 4,
 "nbformat_minor": 4
}
