{
 "cells": [
  {
   "cell_type": "code",
   "execution_count": 1,
   "metadata": {
    "tags": [
     "hide-input"
    ]
   },
   "outputs": [],
   "source": [
    "import numpy as np\n",
    "from scipy import signal\n",
    "import matplotlib.pyplot as plt"
   ]
  },
  {
   "cell_type": "markdown",
   "metadata": {},
   "source": [
    "# Linearni, časovno invariatni (LTI) sistemi - zajem signalov"
   ]
  },
  {
   "cell_type": "markdown",
   "metadata": {},
   "source": [
    "Odzivni model linarnih, časovno invariantnih (ang. *Linear, Time-Invariant, LTI*) sistemov okarakteriziramo s t. i. **prenosnimi funkcijami**, ki povezujejo signale odziva in vzbujanja sistema, v frekvenčni (*frekvenčna prenosna funkcija*, $\\alpha(\\omega)$) oz. časovni (*impulzna prenosna funkcija*, $h(t)$) domeni."
   ]
  },
  {
   "cell_type": "markdown",
   "metadata": {},
   "source": [
    "**Frekvenčna prenosna funkcija** $\\alpha(\\omega)$ torej predstavlja razmerje med (kompleksnimi) amplitudami harmonskega odziva in vzbujana opazovanega sistema:\n",
    "\n",
    "$$\n",
    "\t\\alpha(\\omega) = \\frac{X(\\omega)}{F(\\omega)}\n",
    "$$\n"
   ]
  },
  {
   "cell_type": "markdown",
   "metadata": {},
   "source": [
    "**Impulzna prenosna funkcija** $h(t)$ pa podaja odziv sistema na impulzno motnjo. \n",
    "\n",
    "Odziv na poljubno vzbujanje (signal $f(t)$) določa naslednja zveza:\n",
    "\n",
    "$$\n",
    "\tx(t) = f(t) * h(t)= h(t)*f(t),\n",
    "$$\n",
    "\n",
    "kjer $*$ označuje konvolucijo."
   ]
  },
  {
   "cell_type": "markdown",
   "metadata": {},
   "source": [
    "\n",
    "\n",
    ":::{note}\n",
    "\n",
    "Impulzna prenosna funkcija in frekvenčna prenosna funkcija sta **Fourierov par**:\n",
    "\n",
    "$$\n",
    "\th(t)=\\mathcal{F}^{-1}\\{\\alpha(\\omega)\\}\\qquad\\textrm{ali}\\qquad%\n",
    "\t\\alpha(\\omega)=\\mathcal{F}\\{h(t)\\}.\n",
    "$$\n",
    "\n",
    ":::\n",
    "\n"
   ]
  },
  {
   "cell_type": "markdown",
   "metadata": {
    "tags": []
   },
   "source": [
    "## Zajem signalov za določitev prenosnih funkcij LTI sistema\n",
    "\n",
    "Pri eksperimentalni karakterizaciji LTI sistema torej določamo razmerje med odzivom sistema in znanim signlom vzbujanja, na podlagi izmerjenih signalov $x(t)$, $f(t)$.\n",
    "\n",
    "Namen te vaje je spoznati laboratorijsko opremo in izvesti meritve signalov, potrebnih za določitev prenosnih funkcij mehanskega LTI sistema."
   ]
  },
  {
   "cell_type": "markdown",
   "metadata": {},
   "source": [
    ":::{admonition} Naloga: Meritev prenosnih funkcij jeklenega nosilca\n",
    ":class: warning\n",
    "\n",
    "\n",
    "Pripravite zajemni sistem in opravite meritve odziva (pospeška) jeklenega nosilca na impulzno vzbujanje v različnih točkah. Vsak naj izvede meritev odziva (pospšeka) nosilca pri **vzbujanju z modalnim kladivom v točki, podani v tabeli podatkov**, ki jo najdete v e-učilnici.\n",
    "\n",
    "Delo v laboratoriju bo potekalo **skupinsko**. Nalogo sestavljajo trije vsebinski deli, ki so podrobneje opisani spodaj:\n",
    "\n",
    "1. Postavitev in povezava merilne opreme.\n",
    "2. Priprava LabView programa za zajem signalov.\n",
    "3. Meritev signalov vzbujevalne sile in odziva sistema pri impulznem vzbujanju v različnih točkah.\n",
    "\n",
    ":::"
   ]
  },
  {
   "cell_type": "markdown",
   "metadata": {},
   "source": [
    "### Merilni sistem\n",
    "\n",
    "Merilna veriga je sestavljena iz naslednjih komponent:\n",
    "\n",
    "* Merilna kartica [NI 9234](https://www.ni.com/sl-si/support/model.ni-9234.html):\n",
    "    * 4 analogni vhodni kanali (BNC priključek).\n",
    "    * $\\pm$ 5 V.\n",
    "    * Frekvenca vzorčenja do 51200 Hz (dovoljene vrednosti: $51200 / n$, $n \\in [1, 2, 3, \\dots, 31]$).\n",
    "    * 24-bitna ločljvost.\n"
   ]
  },
  {
   "cell_type": "markdown",
   "metadata": {},
   "source": [
    "* Jeklen nosilec:\n",
    "    * Dolžina: 500 mm.\n",
    "    * 11 označenih merilnih mest (na pozicijah $[25, 475]$ mm, razmik $45$ mm).\n",
    "    * Meritev odziva na lokaciji $0$, vzbujanje na lokacijah $i \\in [1, 2, \\dots 10]$.\n"
   ]
  },
  {
   "cell_type": "markdown",
   "metadata": {},
   "source": [
    "\n",
    "* Modalno kladivo [PCB TLD086C03](https://www.pcb.com/products?m=TLD086C03):\n",
    "    * IEPE silomer.\n",
    "    * BNC povezava z analognim vhodom merilne kartice.\n",
    "    * Merilno območje: $\\pm$ 2224 N.\n",
    "    * Občutljivost: podatek na škatli instrumenta.\n"
   ]
  },
  {
   "cell_type": "markdown",
   "metadata": {},
   "source": [
    "\n",
    "* Pospeškomer [PCB  333B30](https://www.pcb.com/products?model=333B30):\n",
    "    * IEPE pospeškomer.\n",
    "    * BNC povezava z analognim vhodom merilne kartice.\n",
    "    * Merilno območje: $\\pm$ 490 $m/s^2$.\n",
    "    * Občutljivost: podatek na škatli instrumenta.\n"
   ]
  },
  {
   "cell_type": "markdown",
   "metadata": {},
   "source": [
    "* Merilni osebni računalnik (USB povezava)."
   ]
  },
  {
   "cell_type": "markdown",
   "metadata": {},
   "source": [
    ":::{admonition} 1. Postavitev merilne verige\n",
    ":class: important\n",
    "\n",
    "Povežite merilno verigo zajemnega sistema. Pomagajte si z zgornjim opisom meirlne opreme ter spodnjo sliko.\n",
    "\n",
    "Pri povezavi merilnih zaznaval (pospeškomer, silomer) na merilno kartico lahko uporabite poljubne vhodne kanale. Poskrbite, da boste izbiro upoštevali pri nastavitvi LabView programa.\n",
    "\n",
    "![zajemni-sistem](./images/05/00_zajemni_sistem.png)\n",
    "\n",
    ":::"
   ]
  },
  {
   "cell_type": "markdown",
   "metadata": {},
   "source": [
    "### LabView program"
   ]
  },
  {
   "cell_type": "markdown",
   "metadata": {},
   "source": [
    ":::{admonition} 2. Priprava LabView programa\n",
    ":class: important\n",
    "\n",
    "Pripravite LabView program za zajem signalov vzbujanja in odziva opazovanega nosilca.\n",
    "\n",
    "Glavne nastavitve zajema so:\n",
    "* Frekvenca vzorčenja: 25600 Hz,\n",
    "* Dolžina zajetega signala po vsakem udarcu: 1 s (25600 točk),\n",
    "* Število predvzorcev (shranjenih pred detekcijo udarca): 100,\n",
    "* Shranjevanje datotek: oblika `.lvm`, posamezen udarec v segmentu.\n",
    "\n",
    "Program naj v zanki (do ročne prekinive):\n",
    "* Zajema signale pospeška in sile na ustreznih kanalih merilne kartice ([`Express -> Input -> DAQ Assistant`](https://knowledge.ni.com/KnowledgeArticleDetails?id=kA03q000000x0QHCAY&l=sl-SI)):\n",
    "    * nastavite zajem vzbujanja (\"Force (IEPE)\") in odziva (\"Acceleration IEPE\") na povezanih kanalih,\n",
    "\n",
    "    ![channels](./images/05/01_physical_channels.png)\n",
    "\n",
    "    * nastavite občutljivosti zaznaval in parametre zajema v skladu s podatki,\n",
    "    \n",
    "    ![acquisotion-config](./images/05/05_channel_config.png)\n",
    "\n",
    "    * (zajete signale lahko sproti prikazujete (`Desni klik na signal -> Create Graph indicator`)).\n",
    "\n",
    "* Proži shranjevanje in prikaz, ko je zaznan udarec (`Express -> Signal Manipulation -> Trigger and Gate`):\n",
    "    * nastavite ustrezen nivo sile, ki predstavlja zazavo udarca,\n",
    "    * nastavite ustrezni kanal sprožilca (\"Trigger channel\"),\n",
    "    * nastavite predpisano število predvzorcev (\"Pre samples\"),\n",
    "    * nastavite ustrezno število shranjenih vzorcev po zaznavi udarca (\"Samples\").\n",
    "\n",
    "    ![trigger](./images/05/07_trigger_settings.png)\n",
    "\n",
    "* *Če* je zaznan udarec (`Trigger and Gate: Data Available`) zapiše nastavljeno število vzorcev iz sprožilca v `lvm` datoteko:\n",
    "    * poskrbite, da bo vsaka ponovitev meritve prebrana kot posamezni segment datoteke (\"Segment headers\").\n",
    "\n",
    "* (Po zaznanem udarcu lahko signal iz sprožilca prikažete na grafu.)\n",
    "\n",
    "\n",
    "* (Prikažete lahko tudi graf frekvenčnega spektra signala v sprožilcu (`Express -> Signal Analysis -> Spectral`).)\n",
    ":::\n"
   ]
  },
  {
   "cell_type": "markdown",
   "metadata": {},
   "source": [
    "Primer blokovnega diagrama in krmilne plošče zaključenega programa:\n",
    "\n",
    "![vi](./images/05/08_vi.png)"
   ]
  },
  {
   "cell_type": "markdown",
   "metadata": {},
   "source": [
    "### Meritev"
   ]
  },
  {
   "cell_type": "markdown",
   "metadata": {},
   "source": [
    ":::{admonition} 3. Izvedba meritve signalov\n",
    ":class: important\n",
    "\n",
    "Pri ustrenzo pripravljenem LabView programu se zajem posameznega segmenta (udarca) sproži samodejno z uporabo sprožilca (`Trigger and gate`).\n",
    "\n",
    "Pri izvajanju meritve poskrbite, da:\n",
    "* ste sistem vzbudili z udarcem na označenem mestu, v smeri normalno na zgornjo ploskev nosilca,\n",
    "* sila posameznega udarca ni previsoka (primerna sila udarca: $~200$ N),\n",
    "* v zajetem segmentu ni večkratnih zadetkov (preverite, da je v signalu sprožilca en sam izrazit vrh sile).\n",
    "\n",
    "![double-hit](./images/05/09_neustrezno_dvojni_udarec.png)\n",
    "\n",
    ":::"
   ]
  },
  {
   "cell_type": "markdown",
   "metadata": {},
   "source": [
    "## Domača naloga"
   ]
  },
  {
   "cell_type": "markdown",
   "metadata": {},
   "source": [
    ":::{admonition} Domača naloga\n",
    ":class: warning\n",
    "\n",
    "V okolju Jupyter Notebook pripravite kratko poročilo *(od 3 do 10 celic s kodo)* z rezultati in kratkim komentarjem meritev, ki ste jih izvedli na vaji, v katerem naj bodo razvidni podatki naloge. Poročilo naj vsebuje tudi:\n",
    "\n",
    "* prikaz (časovne vrste ter amplitudne spektre) vseh meritev, ki ste jih opravili v skupini (pri vseh podanih točkah vzbujanja),\n",
    "* prikaz časovne vrste ter amplitudnega spektra vaše meritve (pri vzbujanju v točki, podani v podatkih naloge),\n",
    "* prikaz frekvenčne prenosne funkcije v vaši izmerjeni točki ($i$), ki jo ocenite z $\\alpha_i(\\omega) = X_i(\\omega) / F_i(\\omega)$.\n",
    "\n",
    "Poročilo oddajte tudi v `.pdf` obliki (glejte [navodila za oddajo domačih nalog](intro-domace-naloge)).\n",
    "\n",
    "**Dodatek**: \n",
    "* Na podlagi izvedene meritve določite tudi impulzno prenosno funkcijo $h_i(t)$ nosilca pri vzbujanju v vaši točki ($i$).\n",
    "* Simulirajte in prikažite odziv nosilca $x(t)$ na vzbujanje z naključnim signalom sile $f_i(t)$. Naključni vzbujevalni signal pripravite po lastni presoji, na primer z uporabo modula `numpy.random`. \n",
    "\n",
    ":::"
   ]
  }
 ],
 "metadata": {
  "kernelspec": {
   "display_name": "Python 3 (ipykernel)",
   "language": "python",
   "name": "python3"
  },
  "language_info": {
   "codemirror_mode": {
    "name": "ipython",
    "version": 3
   },
   "file_extension": ".py",
   "mimetype": "text/x-python",
   "name": "python",
   "nbconvert_exporter": "python",
   "pygments_lexer": "ipython3",
   "version": "3.10.1"
  }
 },
 "nbformat": 4,
 "nbformat_minor": 4
}
