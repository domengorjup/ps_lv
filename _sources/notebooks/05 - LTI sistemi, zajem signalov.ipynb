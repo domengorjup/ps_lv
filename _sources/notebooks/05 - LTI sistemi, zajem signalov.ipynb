{
 "cells": [
  {
   "cell_type": "code",
   "execution_count": 1,
   "metadata": {
    "tags": [
     "hide-input"
    ]
   },
   "outputs": [],
   "source": [
    "import numpy as np\n",
    "from scipy import signal\n",
    "import matplotlib.pyplot as plt"
   ]
  },
  {
   "cell_type": "markdown",
   "metadata": {},
   "source": [
    "# Linearni, časovno invariatni (LTI) sistemi - zajem signalov"
   ]
  },
  {
   "cell_type": "markdown",
   "metadata": {},
   "source": [
    "Odzivni model linarnih, časovno invariantnih (ang. *Linear, Time-Invariant, LTI*) sistemov okarakteriziramo s t. i. **prenosnimi funkcijami**, ki povezujejo signale odziva in vzbujanja sistema, v frekvenčni (*frekvenčna prenosna funkcija*, $\\alpha(\\omega)$) oz. časovni (*impulzna prenosna funkcija*, $h(t)$) domeni."
   ]
  },
  {
   "cell_type": "markdown",
   "metadata": {},
   "source": [
    "**Frekvenčna prenosna funkcija** $\\alpha(\\omega)$ torej predstavlja razmerje med (kompleksnimi) amplitudami harmonskega odziva in vzbujana opazovanega sistema:\n",
    "\n",
    "$$\n",
    "\t\\alpha(\\omega) = \\frac{X(\\omega)}{F(\\omega)}\n",
    "$$\n"
   ]
  },
  {
   "cell_type": "markdown",
   "metadata": {},
   "source": [
    "**Impulzna prenosna funkcija** $h(t)$ pa podaja odziv sistema na impulzno motnjo. \n",
    "\n",
    "Odziv na poljubno vzbujanje (signal $f(t)$) določa naslednja zveza:\n",
    "\n",
    "$$\n",
    "\tx(t) = f(t) * h(t)= h(t)*f(t),\n",
    "$$\n",
    "\n",
    "kjer $*$ označuje konvolucijo."
   ]
  },
  {
   "cell_type": "markdown",
   "metadata": {},
   "source": [
    "\n",
    "\n",
    ":::{note}\n",
    "\n",
    "Impulzna prenosna funkcija in frekvenčna prenosna funkcija sta **Fourierov par**:\n",
    "\n",
    "$$\n",
    "\th(t)=\\mathcal{F}^{-1}\\{\\alpha(\\omega)\\}\\qquad\\textrm{ali}\\qquad%\n",
    "\t\\alpha(\\omega)=\\mathcal{F}\\{h(t)\\}.\n",
    "$$\n",
    "\n",
    ":::\n",
    "\n"
   ]
  },
  {
   "cell_type": "markdown",
   "metadata": {
    "tags": []
   },
   "source": [
    "## Zajem signalov za določitev prenosnih funkcij LTI sistema\n",
    "\n",
    "Pri eksperimentalni karakterizaciji LTI sistema torej določamo razmerje med odzivom sistema in znanim signlom vzbujanja, na podlagi izmerjenih signalov $x(t)$, $f(t)$.\n",
    "\n",
    "Namen te vaje je spoznati laboratorijsko opremo in izvesti postopek meritve signalov, potrebnih, za določitev prenosnih funkcij mehanskega LTI sistema."
   ]
  },
  {
   "cell_type": "markdown",
   "metadata": {},
   "source": [
    ":::{admonition} Meritev prenosnih funkcij jeklenega nosilca\n",
    ":class: important\n",
    "\n",
    "\n",
    "Z uporabo laboratorijske merilne opreme in programskega okolja LabView pripravite zajemni sistem in opravite meritve odziva (pospeška) jeklenega nosilca na impulzno vzbujanje v različnih točkah.\n",
    "\n",
    "Delo v laboratoriju (priprava zajemnega sistema, izvedba meritve) bo potekalo **skupinsko**. \n",
    "\n",
    "Vsak naj izvede meritev odziva nosilca pri **vzbujanju z modalnim kladivom v točki, podani v tabeli podatkov**, ki jo najdete v e-učilnici.\n",
    "\n",
    ":::"
   ]
  },
  {
   "cell_type": "markdown",
   "metadata": {},
   "source": [
    "## Domača naloga"
   ]
  },
  {
   "cell_type": "markdown",
   "metadata": {},
   "source": [
    ":::{admonition} Domača naloga\n",
    ":class: warning\n",
    "\n",
    "V okolju Jupyter Notebook pripravite kratko poročilo *(od 3 do 10 celic s kodo)* z rezultati meritev, ki ste jih izvedli na vaji, v katerem naj bodo razvidni podatki naloge. Poročilo naj vsebuje:\n",
    "\n",
    "* prikaz (časovne vrste ter amplitudne spektre) vseh meritev, ki ste jih opravili v skupini (pri vseh podanih točkah vzbujanja),\n",
    "* prikaz časovne vrste ter amplitudnega spektra vaše meritve (pri vzbujanju v točki, podani v podatkih naloge),\n",
    "* prikaz frekvenčne prenosne funkcije v vaši izmerjeni točki ($i$), ki jo ocenite z $\\alpha_i(\\omega) = X_i(\\omega) / F_i(\\omega)$.\n",
    "\n",
    "Poročilo oddajte tudi v `.pdf` obliki (glejte [navodila za oddajo domačih nalog](intro-domace-naloge)).\n",
    "\n",
    "**Dodatek**: \n",
    "* Na podlagi izvedene meritve določite tudi impulzno prenosno funkcijo $h_i(t)$ nosilca pri vzbujanju v vaši točki ($i$).\n",
    "* Simulirajte in prikažite odziv nosilca $x(t)$ na vzbujanje z naključnim signalom sile $f_i(t)$. Naključni vzbujevalni signal pripravite po lastni presoji, na primer z uporabo modula `numpy.random`. \n",
    "\n",
    ":::"
   ]
  }
 ],
 "metadata": {
  "kernelspec": {
   "display_name": "Python 3 (ipykernel)",
   "language": "python",
   "name": "python3"
  },
  "language_info": {
   "codemirror_mode": {
    "name": "ipython",
    "version": 3
   },
   "file_extension": ".py",
   "mimetype": "text/x-python",
   "name": "python",
   "nbconvert_exporter": "python",
   "pygments_lexer": "ipython3",
   "version": "3.10.1"
  }
 },
 "nbformat": 4,
 "nbformat_minor": 4
}
