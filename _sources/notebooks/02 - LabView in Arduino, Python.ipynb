{
 "cells": [
  {
   "cell_type": "code",
   "execution_count": 3,
   "metadata": {
    "tags": [
     "hide-input"
    ]
   },
   "outputs": [],
   "source": [
    "import numpy as np\n",
    "import matplotlib.pyplot as plt"
   ]
  },
  {
   "cell_type": "markdown",
   "metadata": {},
   "source": [
    "# LabView in Arduino, Python"
   ]
  },
  {
   "cell_type": "markdown",
   "metadata": {},
   "source": [
    "Kljub sicer zaprti strukturi je del LabView ekosistema tudi upravljanik paketov [\"VI Package manager (VIPM)\"](https://www.vipm.io/), kjer lahko uporabniki delijo LabView kodo in pakete, s katerimi je mogoča uporaba funkcionalnost in opreme, ki je sam LabView sicer ne podpira.\n",
    "\n",
    "Za nekomercialno rabo je v istem sklopu na voljo tudi [LabView Community Edition](https://www.ni.com/sl-si/shop/labview/select-edition/labview-community-edition.html), ki omogoča brezplačn uporabo osnovnih funkcij LabView-a."
   ]
  },
  {
   "cell_type": "markdown",
   "metadata": {},
   "source": [
    "## LINX\n",
    "\n",
    "Eden izmed brezplačnih paketov, razvitih s strani skupnosti, je tudi [LabView Hobbyist Toolkit (LINX)](https://knowledge.ni.com/KnowledgeArticleDetails?id=kA00Z0000019TmpSAE&l=sl-SI), ki omogoča uporabo LabView za upravljanje s strojno opremo Arduino, Raspberry Pi, in BeagleBone Black."
   ]
  },
  {
   "cell_type": "markdown",
   "metadata": {},
   "source": [
    "### Arduino Uno (Atmega328p)\n",
    "\n",
    "Pri Procesiranju signalov bomo zaradi enostavne integracije v LabView zajemne sisteme in možnosti analogno-digitalne pretvorbe spoznali osnove uporabe razvojne plošče [Arduino Uno](http://store.arduino.cc/products/arduino-uno-rev3), ki temelji na mikrokrmilniku [Atmega328p](https://ww1.microchip.com/downloads/en/DeviceDoc/Atmel-7810-Automotive-Microcontrollers-ATmega328P_Datasheet.pdf).\n",
    "\n",
    "Specifikacije plošče Arduino Uno, bistvene pri aplikacijah analogno digitalne pretvorbe in zajema signalov, so zbrane v spodnji tabeli."
   ]
  },
  {
   "cell_type": "markdown",
   "metadata": {},
   "source": [
    "| Parameter| Vrednost |\n",
    "| :--- | :--- |\n",
    "| Število analognih vhodov | `6` |\n",
    "| ADC bitna gbina | `10 bit` |\n",
    "| USB apajalna napetost (V<sub>CC</sub>) | `5 V` |\n",
    "| Območje merjenja napetosti | `0 V do 5 V` |\n",
    "| Limite vhodne napetosti | `-0.5 V do VCC + 0.5 V` |"
   ]
  },
  {
   "cell_type": "markdown",
   "metadata": {},
   "source": [
    "```{admonition} Opozorilo\n",
    ":class: important\n",
    "Pri zajemu signalov moramo biti pozorni, da ne presežemo ekstremov dovoljenih vrednosti vhodne napetosti zajemne naprave.\n",
    "\n",
    "**Merilno območje** Arduina je `(0-5 V)`, **območje dopustnih napetosti**\\* v našem primeru pa `(-0.5-5.5 V)` (glej zgornjo tabelo). Če presežemo merilno območje naprave signala ne bomo zajeli v celoti, če presežemo dopustno napetost pa lahko poškodujemo zajemni sistem!\n",
    "\n",
    "\\* Omejitev dopustne napetosti je še strožja, kadar sistem ni napajan (`VCC = 0`). Če napajalni kabel (USB) Arduina ni povezan z USB priključkom, ki omogoča napajanje z napetostjo 5V, je območje dopustnih napetosti `(-0.5-0.5 V)`!\n",
    "\n",
    "```"
   ]
  },
  {
   "cell_type": "markdown",
   "metadata": {},
   "source": [
    "Pred zajemom signalov z Arduinom (**preden priključimo signalni kabel na vhodni terminal**) moramo torej **vedno preveriti, da je sistem napajan preko USB povezave**, ter da **signal, ki ga priključimo na kateregakoli od vhodnih terminalov, v mejah**:\n",
    "\n",
    "$$V_{\\mathrm{in}} = V_{\\mathrm{offset}} + V_{\\mathrm{PP}} \\in [0, 5] \\mathrm{ V}$$"
   ]
  },
  {
   "cell_type": "code",
   "execution_count": 11,
   "metadata": {
    "tags": []
   },
   "outputs": [],
   "source": [
    "V_offset = 2.5\n",
    "V_pp = 5"
   ]
  },
  {
   "cell_type": "code",
   "execution_count": 60,
   "metadata": {
    "tags": [
     "hide-input"
    ]
   },
   "outputs": [
    {
     "data": {
      "image/png": "[encoded data removed]",
      "text/plain": [
       "<Figure size 576x216 with 1 Axes>"
      ]
     },
     "metadata": {
      "needs_background": "light"
     },
     "output_type": "display_data"
    }
   ],
   "source": [
    "t = np.linspace(0, 1, 100)\n",
    "signal = V_pp/2 * np.sin(2*np.pi*t) + V_offset\n",
    "\n",
    "plt.figure(figsize=(8, 3))\n",
    "plt.plot([0, 0], [0, 0], '-.', c='k', lw=1, label='$V_{\\mathrm{offset}}$')\n",
    "plt.plot([0, 0], [0, 0], '--', c='k', lw=2, label='merilno območje')\n",
    "plt.plot([0, 0], [0, 0], c='r', lw=3, label='dopustno območje')\n",
    "plt.axhline(y=V_offset, ls='-.', c='k', lw=1)\n",
    "plt.axhline(y=0, c='k', ls='--', lw=2)\n",
    "plt.axhline(y=5, c='k', ls='--', lw=2)\n",
    "plt.axhline(y=-0.5, c='r', lw=3)\n",
    "plt.axhline(y=5.5, c='r', lw=3)\n",
    "plt.plot(t, signal, lw=2, label='signal')\n",
    "\n",
    "plt.annotate(\"\",\n",
    "            xy=(0.25, 0), xycoords='data',\n",
    "            xytext=(0.25, V_pp), textcoords='data',\n",
    "            arrowprops=dict(arrowstyle='<|-|>', shrinkA=0, shrinkB=0,)\n",
    "            )\n",
    "plt.text(0.26, 3, '$V_{\\mathrm{PP}}$')\n",
    "\n",
    "plt.xlim(0, 1)\n",
    "plt.ylim(-1, 6)\n",
    "plt.xlabel('t [s]')\n",
    "plt.ylabel('signal [V]')\n",
    "plt.grid(True)\n",
    "plt.legend();"
   ]
  },
  {
   "cell_type": "markdown",
   "metadata": {},
   "source": [
    "### LabView in Arduino"
   ]
  },
  {
   "cell_type": "markdown",
   "metadata": {},
   "source": [
    "Paket LINX omogoča dostop do analognih vhodnih kanalov ter digitalnih I/O kanalov Arduino plošče iz LabView-a. Podpira tudi povezavo Arduina z zunanjimi napravami, na primer preko SPI ali I2C serijske povezave.\n",
    "\n",
    "Do podprtih programskih elementov dostopamo preko posebnega menija v naboru funkcij blokovnega diagrama, `MakerHub -> LINX`.\n",
    "\n",
    "![linx_functions](./images/02/makerhub_functions.png)"
   ]
  },
  {
   "cell_type": "markdown",
   "metadata": {},
   "source": [
    "#### Povezava z Arduinom in prvi program"
   ]
  },
  {
   "cell_type": "markdown",
   "metadata": {},
   "source": [
    "Za vzpostavitev povezave z Arduinom v LabView-u uporabimo posebno funkciji knjižnice LINX, `Open`. \n",
    "\n",
    "Osnovni parameter pri odpiranju povezave so *COM serijska vrata*, preko katerih je Arduino povezan na naš računalnik. Če je v sistem povezanih več podobnih serijskih naprav, lahko serijska vrata povezanega Arduina najdete z orodjem `Upravitelj naprav (Device Manager)`.\n",
    "\n",
    "![device_manager](./images/02/device_manager_com.png)\n",
    "\n",
    "Druga pomembna nastavitev je hitrost serijske povezave (*baud rate*) z Arduinom. Privzeta vrednsot je `9600`, najvišja, ki jo Arduino Uno dopušča, pa `115200`.\n",
    "\n",
    "Po zaključenem delu z Arduinom v LabView programu moramo povezavo **zapreti s funkcijo `Close`**, sicer bomo pri ponovnem poskusu vzpostavitve povezave imeli težave! Programa zato **ne smemo nasilno prekiniti iz orodne vrstice LabView-a**!"
   ]
  },
  {
   "cell_type": "markdown",
   "metadata": {},
   "source": [
    "![open_close](./images/02/00_open_close.png)"
   ]
  },
  {
   "cell_type": "markdown",
   "metadata": {},
   "source": [
    "#### Avtomatizacija z Arduinom - digitalni I/O terminali"
   ]
  },
  {
   "cell_type": "markdown",
   "metadata": {},
   "source": [
    "Čeprav Arduino vključuje relativno zmogljiv 10-bitni analogno-digitalni pretvornik s 6 analognimi vhodnimi kanali, zaradi relativno omejene procesorske moči *pogosto ni optimalna izbira za naprednejše aplikacije zajema signalov* (za potrebe tega predmeta pa so zmogljivosti Arduina seveda zadostne).\n",
    "\n",
    "Bolj tipično področje uporabe je zato avtomatizacija in integracija različnih merilnih elementov in strojne opreme. To omogoča širok nabor večnamenskih digitalnih I/O terminalov (GPIO).\n",
    "\n",
    "Poglejmo si osnovno uporabo GPIO kanalov Arduina, na primeru vklopa / izklopa LED luči, integrirane na Arduino plošči, katere stanje je povezano z vrednostjo GPIO terminala `13`.\n",
    "\n",
    "![uno-led](./images/02/uno_led.png)\n",
    "\n",
    "Za zapis `Boolean` vrednosti ustreznega GPIO terminala bomo uporabili funkcijo `Makerhub -> LINX -> Peripheral -> Digital -> Write`.\n",
    "\n",
    "![digital-write](./images/02/digital_write.png)"
   ]
  },
  {
   "cell_type": "markdown",
   "metadata": {},
   "source": [
    "```{admonition} Naloga 1\n",
    ":class: seealso\n",
    "Pripravimo LabView program, ki:\n",
    "* vzpostavi povezavo z Arduinom na izbranih serijskih vratih,\n",
    "* na digitalni terminal št. `13` zapiše izbrano `Boolean` vrednost,\n",
    "* zapre povezavo z Arduinom.\n",
    "```\n",
    "\n",
    "![digital-out](./images/02/01_digital_out.png)"
   ]
  },
  {
   "cell_type": "markdown",
   "metadata": {},
   "source": [
    "```{admonition} Naloga 2 (5 minut)\n",
    ":class: important\n",
    "Zgornji program nadgradite tako, da:\n",
    "* omogoča nastavitev stanja LED luči (vklop / izklop) v realnem času,\n",
    "* po zapisu stanja zgodovino stanj izrisuje na grafu.\n",
    "\n",
    "Namig: na prejšnji vaji smo na grafu izrisovali numerične vrednosti, prebrano stanje digitalnega terminala pa je treba pred prikazom ustrezno pretvoriti!\n",
    "```"
   ]
  },
  {
   "cell_type": "markdown",
   "metadata": {},
   "source": [
    "## Zajem podatkov z Arduinom "
   ]
  },
  {
   "cell_type": "markdown",
   "metadata": {},
   "source": [
    "Pri zajemu podatkov gre običajno za pretvorbo merilnega signala (el. napetost) v digitalno obliko, ki poteka na D-A pretvorniku. Arduino Uno ima na voljo 6 analognih vhodov, ki so povezani za DAC komponento plošče.\n",
    "\n",
    "Za pretvorbo in zajem posamezne točke signala na analognih vhodih lahko uporabimo funkcijo \"AnalogRead\" (``Makerhub -> LINX -> Peripheral -> Analog -> Read``), ki omogoča hkratni zajem na več kanalih hkrati."
   ]
  },
  {
   "cell_type": "markdown",
   "metadata": {},
   "source": [
    "```{note}\n",
    "Vezje, ki ga bomo pri Procesiranju signalov uporabili skupaj z Arduinom za povezavo zunanjih signalov z analognimi vhodi plošče preko koaksialnih, BNC priključkov, omogoča uporabo analognih kanalov `A0` in `A1`.\n",
    "```\n",
    "\n",
    "![bnc_shield](./images/02/arduino_bnc_shield.png)"
   ]
  },
  {
   "cell_type": "markdown",
   "metadata": {},
   "source": [
    "```{admonition} Naloga 3\n",
    ":class: seealso\n",
    "Pripravimo LabView program, ki:\n",
    "* vzpostavi povezavo z Arduinom na izbranih serijskih vratih,\n",
    "* v zanki zajeto nastavljeno število podatkov iz dveh analognih vhodnih kanalov izriše na graf.\n",
    "```\n",
    "\n",
    "![analog-read](./images/02/03_analog_read.png)"
   ]
  },
  {
   "cell_type": "markdown",
   "metadata": {},
   "source": [
    "```{note}\n",
    "Oblika podatkov, pridobljenih iz `N` kanalov pri nastavitvi v `n` iteracijah zanke, je `(n, N)` (torej `n` vrstic, `N` stolpcev).\n",
    "\n",
    "Podatke, zajete na posameznem analognem kanalu, dobimo z izbiro posameznega stolpca (`col`) v dobljenem `array`-u, z uporabo `Arra -> Index Array` funkcije blokovnega diagrama.\n",
    "```"
   ]
  },
  {
   "cell_type": "markdown",
   "metadata": {},
   "source": [
    "```{note}\n",
    "Ker so pridobljeni podatki po izbranem številu iteracij zanke zajema sedaj v obliki polja (`array`), za njihov prikaz uporabimo funkcijo \"Waveform Graph\" (`Graph -> Waveform Graph` na krmilni plošči).\n",
    "```"
   ]
  },
  {
   "cell_type": "markdown",
   "metadata": {},
   "source": [
    "```{admonition} Naloga 4 (10 minut)\n",
    ":class: important\n",
    "Zgornji program nadgradite tako, da:\n",
    "* namesto trajanja pavze med zaporednimi iteracijami zajema omogoča izbiro *frekvence vzorčenja [Hz]*,\n",
    "* omogoča izbiro izbranega števila zajetih segmentov signala z `n` vzorci,\n",
    "* omogočja shranjevanje signala v `.lvm` datoteko.\n",
    "```"
   ]
  },
  {
   "cell_type": "markdown",
   "metadata": {},
   "source": [
    "Tako smo dobili enostaven sistem, ki ga že lahko uporabimo za zajem realnih merilnih signalov.\n",
    "\n",
    "Zmogljivosti takega sistema so seveda omejene. Pri merjenju običajno želimo nadzorovati čimveč parametrov merilne opreme. Naslednji primer VI omogoča tudi določitev občutljivosti posamenzih merilnih kanalov ter shranjevanje neodvisne spremenljivke (časa) skupaj z zajetimi signali.\n",
    "\n",
    "![open-loop-saving](./images/02/05_continuous_N_channels_open_loop_saving.png)"
   ]
  },
  {
   "cell_type": "markdown",
   "metadata": {},
   "source": [
    "Naslednji primer pa omogoča tudi krmiljenje dejanjske frekvence vzorčenja v enostavni povratni zanki:\n",
    "\n",
    "![closed-loop-saving](./images/02/07_continuous_N_channels_closed_loop_saving_new_feedback.png)\n",
    "\n",
    "Pri tem je uporabljen tudi naslednji podprogram:\n",
    "\n",
    "![closed-loop-saving-subvi](./images/02/07_01_clip_fs_SubVI.png)"
   ]
  },
  {
   "cell_type": "markdown",
   "metadata": {},
   "source": [
    "## Python - branje in obdelava zajetih signalov"
   ]
  },
  {
   "cell_type": "markdown",
   "metadata": {},
   "source": [
    "Pri branju podatkov, shranjnih v `.lvm` datoteke, si lahko pomagate s paketom [`lvm_read`](https://pypi.org/project/lvm-read/).\n",
    "\n",
    "Primer uporabe si poglejmo spodaj."
   ]
  },
  {
   "cell_type": "code",
   "execution_count": 21,
   "metadata": {},
   "outputs": [
    {
     "data": {
      "text/plain": [
       "dict_keys(['Decimal_Separator', 'Writer_Version', 'Reader_Version', 'Separator', 'Multi_Headings', 'X_Columns', 'Time_Pref', 'Operator', 'Date', 'Time', 0, 'Segments'])"
      ]
     },
     "execution_count": 21,
     "metadata": {},
     "output_type": "execute_result"
    }
   ],
   "source": [
    "import lvm_read\n",
    "file = 'data/02/test_01.lvm'\n",
    "loaded_data = lvm_read.read(file)\n",
    "loaded_data.keys()"
   ]
  },
  {
   "cell_type": "markdown",
   "metadata": {},
   "source": [
    "Naloženi podatki so strukturirani v obliki slovarja. Podatek `'Segments` nam pove, koliko segmentov smo zajeli:"
   ]
  },
  {
   "cell_type": "code",
   "execution_count": 23,
   "metadata": {},
   "outputs": [
    {
     "data": {
      "text/plain": [
       "1"
      ]
     },
     "execution_count": 23,
     "metadata": {},
     "output_type": "execute_result"
    }
   ],
   "source": [
    "loaded_data['Segments']"
   ]
  },
  {
   "cell_type": "markdown",
   "metadata": {},
   "source": [
    "segment podatkov pa je v slovarju shranjen s ključem zaporednega indeksa. Če je shranjen segment samo eden, je edini indeks, ki je na voljo, `0`."
   ]
  },
  {
   "cell_type": "code",
   "execution_count": 26,
   "metadata": {},
   "outputs": [
    {
     "data": {
      "text/plain": [
       "dict_keys(['Channels', 'Samples', 'Date', 'Time', 'X_Dimension', 'X0', 'Delta_X', 'data', 'Channel names'])"
      ]
     },
     "execution_count": 26,
     "metadata": {},
     "output_type": "execute_result"
    }
   ],
   "source": [
    "loaded_data[0].keys()"
   ]
  },
  {
   "cell_type": "markdown",
   "metadata": {},
   "source": [
    "Vsak posameni segment je prav tako slovar, v katerem do surovih shranjenih podatkov dostopamo s ključem `'data'`:"
   ]
  },
  {
   "cell_type": "code",
   "execution_count": 27,
   "metadata": {},
   "outputs": [
    {
     "data": {
      "text/plain": [
       "(100, 2)"
      ]
     },
     "execution_count": 27,
     "metadata": {},
     "output_type": "execute_result"
    }
   ],
   "source": [
    "loaded_data[0]['data'].shape"
   ]
  },
  {
   "cell_type": "markdown",
   "metadata": {},
   "source": [
    "Posamezni stolpci podatkov predstavljajo po en shranjen kanal:"
   ]
  },
  {
   "cell_type": "code",
   "execution_count": 28,
   "metadata": {},
   "outputs": [],
   "source": [
    "kanal_1, kanal_2 = loaded_data[0]['data'].T"
   ]
  },
  {
   "cell_type": "code",
   "execution_count": 31,
   "metadata": {},
   "outputs": [
    {
     "data": {
      "text/plain": [
       "<matplotlib.legend.Legend at 0x20fbfbf7a30>"
      ]
     },
     "execution_count": 31,
     "metadata": {},
     "output_type": "execute_result"
    },
    {
     "data": {
      "image/png": "[encoded data removed]",
      "text/plain": [
       "<Figure size 432x288 with 1 Axes>"
      ]
     },
     "metadata": {
      "needs_background": "light"
     },
     "output_type": "display_data"
    }
   ],
   "source": [
    "plt.figure()\n",
    "plt.plot(kanal_1, label='kanal 1')\n",
    "plt.plot(kanal_2, label='kanal 2')\n",
    "plt.xlabel('podatek [/]')\n",
    "plt.ylabel('napetost [V]')\n",
    "plt.legend()"
   ]
  },
  {
   "cell_type": "markdown",
   "metadata": {},
   "source": [
    "Poglejmo še primer, ko je v `.lvm` datoteki shranjenih več segmentov, ki so pri shranjevanju ločeni z glavami (*header*):"
   ]
  },
  {
   "cell_type": "code",
   "execution_count": 45,
   "metadata": {},
   "outputs": [
    {
     "data": {
      "text/plain": [
       "5"
      ]
     },
     "execution_count": 45,
     "metadata": {},
     "output_type": "execute_result"
    }
   ],
   "source": [
    "file_2 = 'data/02/test_segments.lvm'\n",
    "loaded_data_2 = lvm_read.read(file_2)\n",
    "loaded_data_2['Segments']"
   ]
  },
  {
   "cell_type": "markdown",
   "metadata": {},
   "source": [
    "Po shranjenih segmentih lahko iteriramo:"
   ]
  },
  {
   "cell_type": "code",
   "execution_count": 46,
   "metadata": {},
   "outputs": [],
   "source": [
    "all_segments = []\n",
    "\n",
    "for seg in range(loaded_data_2['Segments']):\n",
    "    all_segments.append(loaded_data_2[seg]['data'])"
   ]
  },
  {
   "cell_type": "markdown",
   "metadata": {},
   "source": [
    "Datoteka v tem primeru vsebuje tudi stolpec neodvisne spremenljivke (časa):"
   ]
  },
  {
   "cell_type": "code",
   "execution_count": 48,
   "metadata": {},
   "outputs": [
    {
     "data": {
      "text/plain": [
       "<matplotlib.legend.Legend at 0x20fc1143a60>"
      ]
     },
     "execution_count": 48,
     "metadata": {},
     "output_type": "execute_result"
    },
    {
     "data": {
      "image/png": "[encoded data removed]",
      "text/plain": [
       "<Figure size 432x288 with 1 Axes>"
      ]
     },
     "metadata": {
      "needs_background": "light"
     },
     "output_type": "display_data"
    }
   ],
   "source": [
    "\n",
    "plt.figure()\n",
    "\n",
    "t_start = 0\n",
    "for i, segment in enumerate(all_segments):\n",
    "    t, k1, k2 = segment.T\n",
    "    t_segment = t + t_start\n",
    "    t_start = t_segment[-1]\n",
    "    plt.plot(t_segment, k1, label=f'kanal 1, segment {i}')\n",
    "    plt.plot(t_segment, k2, label=f'kanal 2, segment {i}')\n",
    "\n",
    "plt.xlabel('podatek [/]')\n",
    "plt.ylabel('napetost [V]')\n",
    "plt.legend(loc=(1.01, 0))"
   ]
  },
  {
   "cell_type": "markdown",
   "metadata": {},
   "source": [
    "Lahko pa vse segmente združite (in poljubno obdelujete) z uporabo ustreznih Numpy funkcij:"
   ]
  },
  {
   "cell_type": "code",
   "execution_count": 51,
   "metadata": {},
   "outputs": [
    {
     "data": {
      "text/plain": [
       "(250, 3)"
      ]
     },
     "execution_count": 51,
     "metadata": {},
     "output_type": "execute_result"
    }
   ],
   "source": [
    "complete_data = np.concatenate(all_segments)\n",
    "complete_data.shape"
   ]
  },
  {
   "cell_type": "code",
   "execution_count": 55,
   "metadata": {},
   "outputs": [],
   "source": [
    "_, channel_1, channel_2 = complete_data.T\n",
    "dt = _[1] - _[0]\n",
    "t_complete = np.arange(len(channel_1)) * dt"
   ]
  },
  {
   "cell_type": "code",
   "execution_count": 56,
   "metadata": {},
   "outputs": [
    {
     "data": {
      "text/plain": [
       "<matplotlib.legend.Legend at 0x20fc12da170>"
      ]
     },
     "execution_count": 56,
     "metadata": {},
     "output_type": "execute_result"
    },
    {
     "data": {
      "text/plain": [
       "<Figure size 432x288 with 0 Axes>"
      ]
     },
     "metadata": {},
     "output_type": "display_data"
    },
    {
     "data": {
      "image/png": "[encoded data removed]",
      "text/plain": [
       "<Figure size 432x288 with 1 Axes>"
      ]
     },
     "metadata": {
      "needs_background": "light"
     },
     "output_type": "display_data"
    }
   ],
   "source": [
    "plt.figure()\n",
    "plt.figure()\n",
    "plt.plot(t_complete, channel_1, label='kanal 1')\n",
    "plt.plot(t_complete, channel_2, label='kanal 2')\n",
    "plt.xlabel('podatek [/]')\n",
    "plt.ylabel('napetost [V]')\n",
    "plt.legend()"
   ]
  },
  {
   "cell_type": "markdown",
   "metadata": {},
   "source": [
    "## Domača naloga"
   ]
  },
  {
   "cell_type": "markdown",
   "metadata": {},
   "source": [
    "```{admonition} Domača naloga\n",
    ":class: warning\n",
    "* Z uporabo prikazanih funkcij v LabView-u zajamite signal s predpisanimi parametri, pripravljen z uporabo generatorja signalov (individualizirane podatke najdete v [e-učilnici](https://e-ucilnica.fs.uni-lj.si/).\n",
    "* Grafično predstavite \"surove\" podatke.\n",
    "* Na zajetem signalu smiselno prikažite uporabo predpisaneih numeričnih podtopkov (`obdelava_#` v tabeli s podatki).\n",
    "\n",
    "Pripravite kratko poročilo v okolju Jupyter Notebook *(od 3 do 10 celic s kodo)*, iz katerega naj bodo razvidni podatki nalge (iz tabele), ter da ste vse parametre pri izvedbi naloge tudi upoštevali (ustrezno izpišite obliko signala...). \n",
    "Poročilo oddajte tudi v `.pdf` obliki (glejte [navodila za oddajo domačih nalog](intro-domace-naloge)).\n",
    "\n",
    "**Dodatek**: Raziščite in prikažite uporabo frekvenčnega filtriranja podatkov, katerega namen je odprava neželenega visokofrekvenčnega šuma v zajetem signalu (uporaite lahko  [`scipy.signal.lfilter`](https://docs.scipy.org/doc/scipy/reference/generated/scipy.signal.lfilter.html)). Pred tem zajetemu signalu po potrebi dodajte aditivno naključno komponento (šum).\n",
    "```"
   ]
  },
  {
   "cell_type": "markdown",
   "metadata": {},
   "source": [
    "## Uporaba generatorja signalov (RIGOL DG1022)\n",
    "\n",
    "Za simulacijo predpisane oblike periodičnega signala bomo uporabili generator signala.\n",
    "\n",
    "Spodanja slika prikazuje nadzorno ploščo modela RIGOL DG1022.\n",
    "\n",
    "![rigol-dg1022](./images/02/rigol_dg1022.png)"
   ]
  },
  {
   "cell_type": "markdown",
   "metadata": {},
   "source": [
    "Za nastavitev izbranih parametrov signala uporabite kontrolne gumbe, na zgornji sliki označene z modro barvo. Pri tem bodite pozorni, da ste z gumbom `Channel Switch` izbrali kanal, na katerm želite oddajati signal.\n",
    "\n",
    "Generator signala signal oddaja preko koaksialne (BNC) povezave na desni strani krmilne plošče. Oddajanje nastavljenega signala poteka, kadar je osvetljen `Output` gumb izbranega kanala.\n",
    "\n",
    "![rigol-nastavitev](./images/02/rigol_nastavitev.png)"
   ]
  },
  {
   "cell_type": "markdown",
   "metadata": {},
   "source": [
    "```{admonition} Opozorilo\n",
    ":class: important\n",
    "Preden vključite oddajanje signala z ustreznim `Channel` gumbom **preverite, da so vse nastavitve izbranega kanala pravilne, in da niste presegli merilnega območja zajemnega sistema**. Šele za tem priključite zajemni sistem na izhodni kanal generatorja signala!\n",
    "```"
   ]
  }
 ],
 "metadata": {
  "kernelspec": {
   "display_name": "Python 3 (ipykernel)",
   "language": "python",
   "name": "python3"
  },
  "language_info": {
   "codemirror_mode": {
    "name": "ipython",
    "version": 3
   },
   "file_extension": ".py",
   "mimetype": "text/x-python",
   "name": "python",
   "nbconvert_exporter": "python",
   "pygments_lexer": "ipython3",
   "version": "3.10.1"
  }
 },
 "nbformat": 4,
 "nbformat_minor": 4
}
