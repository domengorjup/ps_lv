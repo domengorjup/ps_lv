{
 "cells": [
  {
   "cell_type": "code",
   "execution_count": 1,
   "metadata": {
    "tags": [
     "hide-input"
    ]
   },
   "outputs": [],
   "source": [
    "import pickle\n",
    "import numpy as np\n",
    "from scipy import signal\n",
    "import matplotlib.pyplot as plt"
   ]
  },
  {
   "attachments": {},
   "cell_type": "markdown",
   "metadata": {},
   "source": [
    "# Naključno vzbujanje - ocena frekvenčnih prenosnih funkcij"
   ]
  },
  {
   "cell_type": "markdown",
   "metadata": {},
   "source": [
    "Spomnimo se:"
   ]
  },
  {
   "cell_type": "markdown",
   "metadata": {},
   "source": [
    ":::{note}\n",
    "\n",
    "**Frekvenčna prenosna funkcija** $\\alpha(\\omega)$ predstavlja razmerje med (kompleksnimi) amplitudami harmonskega odziva in vzbujanja opazovanega sistema:\n",
    "\n",
    "$$\n",
    "\t\\alpha(\\omega) = \\frac{X(\\omega)}{F(\\omega)}\n",
    "$$\n",
    "\n",
    ":::"
   ]
  },
  {
   "attachments": {},
   "cell_type": "markdown",
   "metadata": {
    "tags": []
   },
   "source": [
    "Določamo razmerje med odzivom sistema $x(t)$ in znanim signalom vzbujanja $f(t)$, ki smo jih pomerili na [vaji 9](./notebooks/09%20-%20Naklju%C4%8Dno%20vzbujanje%2C%20zajem%20signalov.ipynb). Signali so bili pridobljeni z uporabo *naključnega, širokospektralnega, stacionarnega* vzbujanja.\n",
    "\n",
    "Namen te vaje je spoznati metode procesiranja signalov za določitev cenilk frekvenčnih prenosnih funkcij linearnega sistema na podlagi tovrstnih meritev."
   ]
  },
  {
   "attachments": {},
   "cell_type": "markdown",
   "metadata": {},
   "source": [
    "## Domača naloga"
   ]
  },
  {
   "attachments": {},
   "cell_type": "markdown",
   "metadata": {},
   "source": [
    ":::{admonition} Domača naloga\n",
    ":class: warning\n",
    "\n",
    "V okolju Jupyter Notebook pripravite kratko poročilo *(od 3 do 10 celic s kodo)* z rezultati in kratkim komentarjem izvedenih meritev ter izračunanih cenilk frekvenčne prenosne funkcije glede na podatke naloge. Dodeljeni podatki naloge naj bodo v poročilu navedeni. Poročilo naj vsebuje:\n",
    "\n",
    "* prikaz PSD vaše meritve (povprečje vseh segmentov, v točki, določeni v podatkih [naloge 9](./notebooks/09%20-%20Naklju%C4%8Dno%20vzbujanje%2C%20zajem%20signalov.ipynb)),\n",
    "* prikaz frekvenčne prenosne funkcije v vaši izmerjeni točki ($i$), ki jo ocenite z $\\alpha_i(\\omega) = X_i(\\omega) / F_i(\\omega)$.\n",
    "* prikaz frekvenčne prenosne funkcije v vaši izmerjeni točki ($i$), izračunane s cenilko $H_1(\\omega)$ ali $H_2(\\omega)$ (glede na podatke naloge). Pri tem povprečite spektre ($G_{xy}$) izmerjenih signalov, razdeljenih na segmente dolžine 2 s.\n",
    "\n",
    "\n",
    "**Dodatek**: \n",
    "* Izračunajte in prikažite obe cenilki frekvenčne prenosne funkcije ($H_1$, $H_2$). \n",
    "    * Križne- in avtospektre signalov pri tem izračunajte s povprečenjem prekritih segmentov in uporabo oknjenja,\n",
    "    * Dolžina posameznega segmenta izračuna PSD in CSD je določena v podatkih naloge, uporabite 50% prekrivanjem segmentov,\n",
    "    * Na posameznem segmentu za zmanjševanje pojava frekvenčnega odtekanja uporabite okno, določeno v podatkih naloge.\n",
    "* Izračunajte in prikažite tudi koherenco meritve FRF, $\\gamma^2_{fx}(\\omega)$.\n",
    "\n",
    "Poročilo oddajte v `.pdf` obliki (glejte [navodila za oddajo domačih nalog](intro-domace-naloge)).\n",
    "\n",
    ":::"
   ]
  },
  {
   "cell_type": "markdown",
   "metadata": {},
   "source": [
    "---"
   ]
  },
  {
   "attachments": {},
   "cell_type": "markdown",
   "metadata": {},
   "source": [
    "## Branje izmerjenih signalov"
   ]
  },
  {
   "attachments": {},
   "cell_type": "markdown",
   "metadata": {},
   "source": [
    ":::{admonition} Parametri izvedene meritve\n",
    ":class: seealso\n",
    "\n",
    "Frekvenčne prenosne funkcije jeklenega nosilca bomo izračunali na podlagi meritev, izvedenih pri [vaji 9](./notebooks/09%20-%20Naklju%C4%8Dno%20vzbujanje%2C%20zajem%20signalov.ipynb).\n",
    "\n",
    "Pri procesiranju zajetih signalov so pomembni tudi parametri izvedene meritve. Če ste meritvah sledili navodilom, so osnovni parametri vaših signalov naslednji:\n",
    "\n",
    "Osnovni parametri zajema (**če ste pri meritvi uporabili drugačne nastavitve, vrednosti po potrebi prilagodite!**):\n",
    "* Dva kanala: *sila* in *pospešek* (IEPE).\n",
    "* Frekvenca vzorčenja: 25600 Hz,\n",
    "* Trajanje vsakega zajetega segmenta: 2 s,\n",
    "* Število zajetih segmentov: 5.\n",
    "\n",
    "\n",
    "Osnovne značilnosti meritve:\n",
    "* 11 označenih merilnih mest (na pozicijah $[25, 475]$ mm, razmik $45$ mm).\n",
    "* Vzbujanje na lokaciji $0$, meritve odziva na lokacijah $i \\in [1, 2, \\dots 10]$.\n",
    "* Trajanje vsakega generiranega segmenta: 2 s,\n",
    "* Profil naključnega vzbujevalnega signala konstantne amplitude na območju $[10, 3000] Hz$,\n",
    "* Povprečne amplitude vzbujevalne sile: 1 N RMS.\n",
    "\n",
    ":::\n"
   ]
  },
  {
   "attachments": {},
   "cell_type": "markdown",
   "metadata": {},
   "source": [
    "Branje shranjene datoteke - meritev v eni izmed označenih točk"
   ]
  },
  {
   "cell_type": "code",
   "execution_count": 2,
   "metadata": {},
   "outputs": [
    {
     "name": "stdout",
     "output_type": "stream",
     "text": [
      "dict_keys(['data', 'fs', 'channels'])\n"
     ]
    }
   ],
   "source": [
    "pot = './data/10/meritev.pkl'\n",
    "\n",
    "meritev = pickle.load(open(pot, 'rb'))\n",
    "print(meritev.keys())"
   ]
  },
  {
   "attachments": {},
   "cell_type": "markdown",
   "metadata": {},
   "source": [
    "Frekvenca vzorčenja in shranjeni kanali"
   ]
  },
  {
   "cell_type": "code",
   "execution_count": 3,
   "metadata": {},
   "outputs": [
    {
     "name": "stdout",
     "output_type": "stream",
     "text": [
      "25600.0 ['Force', 'Acceleration']\n"
     ]
    }
   ],
   "source": [
    "fs = meritev['fs']\n",
    "print(fs, meritev['channels'])"
   ]
  },
  {
   "attachments": {},
   "cell_type": "markdown",
   "metadata": {},
   "source": [
    "Oblika shranjenih signalov (`segmenti, kanali, čas`)"
   ]
  },
  {
   "cell_type": "code",
   "execution_count": 4,
   "metadata": {},
   "outputs": [
    {
     "name": "stdout",
     "output_type": "stream",
     "text": [
      "(5, 2, 51200)\n"
     ]
    }
   ],
   "source": [
    "print(meritev['data'].shape)"
   ]
  },
  {
   "attachments": {},
   "cell_type": "markdown",
   "metadata": {},
   "source": [
    "Izbira segmenta za analizo"
   ]
  },
  {
   "cell_type": "code",
   "execution_count": 5,
   "metadata": {},
   "outputs": [
    {
     "data": {
      "text/plain": [
       "(5, 51200)"
      ]
     },
     "execution_count": 5,
     "metadata": {},
     "output_type": "execute_result"
    }
   ],
   "source": [
    "force, acc = meritev['data'].transpose(1, 0, 2) # transponiranje signalov tako, da imamo na prvi osi oba pomerjena kanala, silo in pospešek\n",
    "force.shape"
   ]
  },
  {
   "cell_type": "code",
   "execution_count": 6,
   "metadata": {},
   "outputs": [],
   "source": [
    "time = np.arange(force.shape[1]) / fs"
   ]
  },
  {
   "cell_type": "code",
   "execution_count": 7,
   "metadata": {},
   "outputs": [
    {
     "data": {
      "text/plain": [
       "(5, 25601)"
      ]
     },
     "execution_count": 7,
     "metadata": {},
     "output_type": "execute_result"
    }
   ],
   "source": [
    "F = np.fft.rfft(force, axis=-1) / force.shape[-1] * 2 # izračun FFT: po časovni osi\n",
    "A = np.fft.rfft(acc, axis=-1) / acc.shape[-1] * 2\n",
    "F.shape"
   ]
  },
  {
   "cell_type": "code",
   "execution_count": 8,
   "metadata": {},
   "outputs": [
    {
     "data": {
      "text/plain": [
       "(25601,)"
      ]
     },
     "execution_count": 8,
     "metadata": {},
     "output_type": "execute_result"
    }
   ],
   "source": [
    "freq = np.fft.rfftfreq(len(time), 1/fs)\n",
    "freq.shape"
   ]
  },
  {
   "attachments": {},
   "cell_type": "markdown",
   "metadata": {},
   "source": [
    "Izris amplitudnih spektrov"
   ]
  },
  {
   "cell_type": "code",
   "execution_count": 9,
   "metadata": {
    "tags": [
     "hide-input"
    ]
   },
   "outputs": [
    {
     "data": {
      "image/png": "[encoded data removed]",
      "text/plain": [
       "<Figure size 432x288 with 2 Axes>"
      ]
     },
     "metadata": {
      "needs_background": "light"
     },
     "output_type": "display_data"
    }
   ],
   "source": [
    "segment = 0\n",
    "\n",
    "fig, ax = plt.subplots(2, 1)\n",
    "plt.suptitle(f'Segment [{segment}]')\n",
    "ax[0].semilogy(freq, np.abs(A[segment]), label='pospešek')\n",
    "ax[0].semilogy(freq, np.abs(F[segment]), label='sila')\n",
    "ax[0].set_xlabel('frekvenca [Hz]')\n",
    "ax[0].set_ylabel('amplituda [N, m/s^2]')\n",
    "ax[0].legend()\n",
    "\n",
    "ax[1].semilogy(freq, np.abs(A/F)[segment], label='ocena FRF')\n",
    "ax[1].set_xlabel('frekvenca [Hz]')\n",
    "ax[1].set_ylabel('ocena FRF')\n",
    "ax[1].legend();"
   ]
  },
  {
   "attachments": {},
   "cell_type": "markdown",
   "metadata": {},
   "source": [
    "## Cenilke frekvenčne prenosne funkcije"
   ]
  },
  {
   "cell_type": "markdown",
   "metadata": {},
   "source": [
    "Pri realnih meritvah se ne moremo izogniti naključnega šuma (merilne napake) v zajetih signalih. \n",
    "\n",
    "Ob upoštevanju odziva LTI sistemov na naključno vzbujanje z merilno napako, lahko zapišemo različne cenilke frekvenčnih prenosnih funkcij:"
   ]
  },
  {
   "cell_type": "markdown",
   "metadata": {},
   "source": [
    ":::{note}\n",
    "\n",
    "Cenilka $H_1(\\omega)$ predpostavlja nezanemarljivo količino naključnega šuma pri meritvi signala *odziva* $x(t)$. Izračunamo jo:\n",
    "\n",
    "$$\n",
    "\\begin{equation}\n",
    "H_1(\\omega) = \\frac{S_{fx}(\\omega)}{S_{ff}(\\omega)}.\n",
    "\\end{equation}\n",
    "$$\n",
    "\n",
    ":::"
   ]
  },
  {
   "cell_type": "markdown",
   "metadata": {},
   "source": [
    ":::{note}\n",
    "\n",
    "Cenilka $H_2(\\omega)$ predpostavlja nezanemarljivo količino naključnega šuma pri meritvi signala *vzbujanja* $f(t)$. Izračunamo jo:\n",
    "\n",
    "$$\n",
    "\\begin{equation}\n",
    "H_2(\\omega) = \\frac{S_{xx}(\\omega)}{S_{xf}(\\omega)}.\n",
    "\\end{equation}\n",
    "$$\n",
    "\n",
    ":::"
   ]
  },
  {
   "cell_type": "markdown",
   "metadata": {},
   "source": [
    ":::{note}\n",
    "\n",
    "Kvaliteto meritve lahko ocenimo s **koherenco**. Ta je definirana kot:\n",
    "\n",
    "$$\n",
    "\\gamma_{fx}^2(f)=\\frac{|G_{fx}(f)|^2}{G_{ff}(f)\\,G_{xx}(f)}\n",
    "=\\frac{|S_{fx}(f)|^2}{S_{ff}(f)\\,S_{xx}(f)}\n",
    "= \\frac{H_1(\\omega)}{H_2(\\omega)}\n",
    "$$\n",
    "\n",
    "\n",
    "Koherenca ima vrednosti na območju $\\gamma_{fx}^2(f) \\in [0, 1]$. Podaja merilo linearne odvisnosti signalov na vhodu (vzbujanje, $f$) in izhodu (odziv, $x$) sistema. \n",
    "\n",
    "**Pozor:** Izračun koherence je smiseln samo, če so spektralne gostote moči $S_{fx}$, $S_{xx}$, $S_{ff}$ določene s povprečenjem več zajetih segmentov naključnega procesa!\n",
    "\n",
    ":::"
   ]
  },
  {
   "attachments": {},
   "cell_type": "markdown",
   "metadata": {},
   "source": [
    "### Izračun cenilke $H1$"
   ]
  },
  {
   "attachments": {},
   "cell_type": "markdown",
   "metadata": {},
   "source": [
    "Izračun spektrov (ker bomo pri izračunu FR spektre delili med sabo, amplitudno normiranje ni potrebno)"
   ]
  },
  {
   "cell_type": "code",
   "execution_count": 10,
   "metadata": {},
   "outputs": [],
   "source": [
    "G_fa = F.conj() * A \n",
    "G_ff = F.conj() * F"
   ]
  },
  {
   "cell_type": "code",
   "execution_count": 11,
   "metadata": {},
   "outputs": [],
   "source": [
    "H1 = G_fa / G_ff"
   ]
  },
  {
   "cell_type": "code",
   "execution_count": 12,
   "metadata": {
    "tags": [
     "hide-input"
    ]
   },
   "outputs": [
    {
     "data": {
      "image/png": "[encoded data removed]",
      "text/plain": [
       "<Figure size 432x288 with 1 Axes>"
      ]
     },
     "metadata": {
      "needs_background": "light"
     },
     "output_type": "display_data"
    }
   ],
   "source": [
    "plt.figure()\n",
    "plt.semilogy(freq, np.abs(H1[segment]), label=f'H1, segment {segment}')\n",
    "plt.semilogy(freq, np.abs(A[segment] / F[segment]), alpha=0.5, label=f'A/F, segment {segment}')\n",
    "plt.xlim(0, 4000)\n",
    "plt.xlabel('frekvenca [Hz]')\n",
    "plt.ylabel('FRF')\n",
    "plt.legend();"
   ]
  },
  {
   "attachments": {},
   "cell_type": "markdown",
   "metadata": {},
   "source": [
    "S povprečenjem"
   ]
  },
  {
   "cell_type": "code",
   "execution_count": 13,
   "metadata": {},
   "outputs": [],
   "source": [
    "H1_povprečenje = np.mean(G_fa, axis=0) / np.mean(G_ff, axis=0)"
   ]
  },
  {
   "cell_type": "code",
   "execution_count": 14,
   "metadata": {
    "tags": [
     "hide-input"
    ]
   },
   "outputs": [
    {
     "data": {
      "image/png": "[encoded data removed]",
      "text/plain": [
       "<Figure size 432x288 with 1 Axes>"
      ]
     },
     "metadata": {
      "needs_background": "light"
     },
     "output_type": "display_data"
    }
   ],
   "source": [
    "plt.figure()\n",
    "plt.semilogy(freq, np.abs(H1_povprečenje), label=f'H1, povprečenje')\n",
    "plt.semilogy(freq, np.abs(A[segment] / F[segment]), alpha=0.5, label=f'A/F, segment {segment}')\n",
    "plt.xlim(0, 4000)\n",
    "plt.xlabel('frekvenca [Hz]')\n",
    "plt.ylabel('FRF')\n",
    "plt.legend();"
   ]
  },
  {
   "attachments": {},
   "cell_type": "markdown",
   "metadata": {},
   "source": [
    "### Izračun povprečenih spektralnih gostot moči s prekrivanjem segmentov in uporabo oken"
   ]
  },
  {
   "attachments": {},
   "cell_type": "markdown",
   "metadata": {},
   "source": [
    "[Welcheva metoda](https://en.wikipedia.org/wiki/Welch%27s_method) določi (križne in avto-) spektralne gostote moči signalov z uporabo povprečenja in oknjenja podanega signala, segmentiranega s prekrivanjem posameznih odsekov.\n",
    "\n",
    "V Scipy je implementirana v [`scipy.signal.csd`](https://docs.scipy.org/doc/scipy/reference/generated/scipy.signal.csd.html) (križno-spektralna gostota moči) in [`scipy.signal.welch`](https://docs.scipy.org/doc/scipy/reference/generated/scipy.signal.welch.html) (avtospektralna gostota moči). Glavni parametri `scipy.signal.csd` so:\n",
    "* `x` : prvi signal.\n",
    "* `y` : drugi signal.\n",
    "* `fs` : frekvenca vzorčenja signalov `x` in `y`,\n",
    "* `window` : okno, ki naj se uporabi na posameznem segmentu. Privzeto `\"hann\"`.\n",
    "* `nperseg` : dolžina posameznega odseka signala pri segmentiranju,\n",
    "* `noverlap` : število vzorcev, ki se med segmenti prekrivajo. Privzeto polovica `nperseg`."
   ]
  },
  {
   "attachments": {},
   "cell_type": "markdown",
   "metadata": {},
   "source": [
    "### Cenilka $H2$ z metodo Welch"
   ]
  },
  {
   "attachments": {},
   "cell_type": "markdown",
   "metadata": {},
   "source": [
    "Ker imamo v vseh segmentih naključno vzbujanje, lahko zajete segmente združimo:"
   ]
  },
  {
   "cell_type": "code",
   "execution_count": 15,
   "metadata": {},
   "outputs": [
    {
     "data": {
      "text/plain": [
       "(256000,)"
      ]
     },
     "execution_count": 15,
     "metadata": {},
     "output_type": "execute_result"
    }
   ],
   "source": [
    "a = np.hstack(acc)\n",
    "f = np.hstack(force)\n",
    "a.shape"
   ]
  },
  {
   "cell_type": "code",
   "execution_count": 16,
   "metadata": {},
   "outputs": [],
   "source": [
    "freq_welch, G_aa = signal.csd(a, a, nperseg=len(time)//4, fs=fs)\n",
    "freq_welch, G_af = signal.csd(a, f, nperseg=len(time)//4, fs=fs)"
   ]
  },
  {
   "attachments": {},
   "cell_type": "markdown",
   "metadata": {},
   "source": [
    "(Za ustrezno normiranje križnih in avtospektrov glejte ostale argumente funkcije `csd`. Pri izračunu FRF normiranje spektrov na rezultat ne vpliva.)"
   ]
  },
  {
   "cell_type": "code",
   "execution_count": 17,
   "metadata": {},
   "outputs": [
    {
     "data": {
      "text/plain": [
       "((6401,), (6401,))"
      ]
     },
     "execution_count": 17,
     "metadata": {},
     "output_type": "execute_result"
    }
   ],
   "source": [
    "H2_welch = G_aa / G_af\n",
    "H2_welch.shape, freq_welch.shape"
   ]
  },
  {
   "cell_type": "code",
   "execution_count": 18,
   "metadata": {
    "tags": [
     "hide-input"
    ]
   },
   "outputs": [
    {
     "data": {
      "image/png": "[encoded data removed]",
      "text/plain": [
       "<Figure size 432x288 with 1 Axes>"
      ]
     },
     "metadata": {
      "needs_background": "light"
     },
     "output_type": "display_data"
    }
   ],
   "source": [
    "plt.figure()\n",
    "plt.semilogy(freq_welch, np.abs(H2_welch), label=f'H2, Welch')\n",
    "plt.xlim(0, 4000)\n",
    "plt.xlabel('frekvenca [Hz]')\n",
    "plt.ylabel('FRF')\n",
    "plt.legend();"
   ]
  }
 ],
 "metadata": {
  "kernelspec": {
   "display_name": "Python 3 (ipykernel)",
   "language": "python",
   "name": "python3"
  },
  "language_info": {
   "codemirror_mode": {
    "name": "ipython",
    "version": 3
   },
   "file_extension": ".py",
   "mimetype": "text/x-python",
   "name": "python",
   "nbconvert_exporter": "python",
   "pygments_lexer": "ipython3",
   "version": "3.10.1"
  }
 },
 "nbformat": 4,
 "nbformat_minor": 4
}
