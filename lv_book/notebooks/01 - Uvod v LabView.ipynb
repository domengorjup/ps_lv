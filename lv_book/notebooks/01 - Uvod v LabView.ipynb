{
 "cells": [
  {
   "cell_type": "markdown",
   "metadata": {},
   "source": [
    "# Uvod v LabView"
   ]
  },
  {
   "cell_type": "markdown",
   "metadata": {},
   "source": [
    "[NI LabView](https://www.ni.com/sl-si/shop/software/products/labview.html) je grafično programsko okolje podjetja National Instruments, ki je v prvi vrsti namenjeno aplikacijam zajema signalov, krmiljenja laboratorijskih instrumentov in avtomatizacije. Čeprav gre v osnovi za zaprto programsko okolje, LabView poleg komunikacije z National Instruments opremo omogoča uporabo različnih standardnih protokolov in s tem povezavo z različno srojno opremo.\n",
    "\n",
    "Grafični programski jezik (imenovan tudi \"G\"), temelji na pretoku podatkov, ki jih uporabnik vodi do programskih elementov v obliki povezav (ang. *wire*). Posamezni programski elementi se izvedejo takoj, ko imajo na voljo vse potrebne podatke, označene s povezavami, pri čemer je podprta tudi večopravilnost (*multiprocessing*)."
   ]
  },
  {
   "cell_type": "markdown",
   "metadata": {},
   "source": [
    "```{admonition} Namestitev LabView Community Edition\n",
    ":class: note\n",
    "\n",
    "Za nekomercialno rabo je brezplačno na voljo [LabView Community Edition](https://www.ni.com/sl-si/shop/labview/select-edition/labview-community-edition.html), ki omogoča uporabo vseh osnovnih funkcij LabView-a, ki jih potrebujemo pri Procesiranju signalov.\n",
    "\n",
    "**Pozor:** Zaradi težav z najnovejšo verzijo programa (2023) priporočamo prenos in namestitev starejše različice (Version) **2022**.\n",
    "\n",
    "Za namestitev LabView Community Edition na vaš računalnik prenesite namestitveno datoteko iz zgornje povezave. Navodila za namestitev in aktivacijo najdete [v korakih 1 in 2 na tejle povezavi](https://learn.ni.com/learn/article/getting-started-with-arduino-and-labview-community-edition).\n",
    "```"
   ]
  },
  {
   "cell_type": "markdown",
   "metadata": {},
   "source": [
    "## Prvi program"
   ]
  },
  {
   "cell_type": "markdown",
   "metadata": {},
   "source": [
    "\n",
    "Osnovna programska struktura je \"Virtualni instrument\" (VI, *Virtual Instrument*), ki je sesetavljen iz **blokovneg diagrama** (*Block Diagram*) in **krmilne plošče** (*Front Panel*). \n",
    "\n",
    "Primer najosnovnejšega \"Hello, World!\" programa v LabView-u.\n",
    "\n",
    "![hello-world](./images/01/00_Hello_World.png)"
   ]
  },
  {
   "cell_type": "markdown",
   "metadata": {},
   "source": [
    "```{note}\n",
    "LabView omogoča izvoz programa v obliki `.png` slike, ki jo je mogoče naložiti v VI.\n",
    "\n",
    "Označene elemente izvozite v obliki slike z `Edit -> Create VI Snippet from Selection`.\n",
    "\n",
    "Za uvoz VI enostavno povlečete tako pripravljeno sliko v blokovni diagram.\n",
    "```"
   ]
  },
  {
   "cell_type": "markdown",
   "metadata": {},
   "source": [
    "Program poženemo z gumbom \"Run\" na vrhu blokovnega diagrama ali krmilne plošče.\n",
    "\n",
    "![run-program](./images/01/run_program.png)"
   ]
  },
  {
   "cell_type": "markdown",
   "metadata": {},
   "source": [
    "---"
   ]
  },
  {
   "cell_type": "markdown",
   "metadata": {},
   "source": [
    "## Uporabne bljižnice\n",
    "\n",
    "| Bljižnica | Funkcija |\n",
    "| :--- | :--- |\n",
    "| `ctrl + E` | Priklic blokovnega diagrama |\n",
    "| `ctrl + H` | Prikaz pomoči |\n",
    "| `ctrl + space` | Hitro dodajanje funkcij (*Quick Drop*) |\n",
    "| `ctrl + B` | Počisti nepopolne povezave |\n",
    "| `ctrl + U` | Samodejno razporedi elemente programa |\n",
    "| `ctrl + shift + A` | Poravnaj označene elemente v vrsto |"
   ]
  },
  {
   "cell_type": "markdown",
   "metadata": {},
   "source": [
    "## Programiranje v LabView-u"
   ]
  },
  {
   "cell_type": "markdown",
   "metadata": {},
   "source": [
    "S programiranjem lahko začnemo v blokovnem diagramu, kjer z *desnim miškinim klikom* prikličemo meni programskih funkcij, ali v krmilni plošči, kjer desni klik opre nabor *kontrolnih elementov*.\n",
    "\n",
    "![block-diagram-front-pannel](./images/01/blokovni_diagram_krmilna_plosca.png)\n",
    "\n",
    "Spremembe v enem pogledu samodejno posodobijo drugega, dodajanje elementa pa zaključimo s povezavo elementov v blokovnem diagramu."
   ]
  },
  {
   "cell_type": "markdown",
   "metadata": {},
   "source": [
    "```{admonition} Naloga 1\n",
    ":class: important\n",
    "Pripravimo LabView program, ki na števičnici prikaže vrednost hitrosti, podane z drsnikom, pri tem pa vrednost pretvori iz enot [m/s] v [km/h].\n",
    "```\n",
    "\n",
    "![n01-definicija](./images/01/n01_def_pretvorba_hitrosti.png)"
   ]
  },
  {
   "cell_type": "markdown",
   "metadata": {},
   "source": [
    "```{note}\n",
    "Pretok podatkov in zaporedje izvajanja programa vizualiziramo z možnostjo \"Highlight execution\":\n",
    "```\n",
    "\n",
    "![highlight-execution](./images/01/highlight_execution.png)"
   ]
  },
  {
   "cell_type": "markdown",
   "metadata": {},
   "source": [
    "### Podatkovni tipi"
   ]
  },
  {
   "cell_type": "markdown",
   "metadata": {},
   "source": [
    "Kot pri večini programskih jezikov so tudi v LabView-u pomembni podatkovni tipi v programu.\n",
    "\n",
    "Pretvorba med kompatibilnimi tipi podatkov je avtomatska (`Integer`, `Double`), za pretvorbo med nekaterimi tipi podatkov pa moramo uporabiti ustrezne funkcije.\n",
    "\n",
    "Do funkcij za pretvorbo pridemo v funkcijskem meniju blokovnega diagrama, v zavihku ustreznega podatkovnega tipa (npr. za pretvorbo med numeričnimi podatki in nizi: `String -> Number/String Conversion`)."
   ]
  },
  {
   "cell_type": "markdown",
   "metadata": {},
   "source": [
    "```{admonition} Naloga 2\n",
    ":class: seealso\n",
    "Poglejmo primer LabView programa, ki prikazuje pretvorbo med `Integer`, `Double` in `String` tipi podtkov.\n",
    "```\n",
    "\n",
    "![pretvorba-podatkov](./images/01/02_data_types.png)"
   ]
  },
  {
   "cell_type": "markdown",
   "metadata": {},
   "source": [
    "```{note}\n",
    "Če pri zagonu programa pride do napake, lahko izpis napak pogledamo s klikom na \"List Errors\":\n",
    "```\n",
    "\n",
    "![list-errors](./images/01/list_errors.png)"
   ]
  },
  {
   "cell_type": "markdown",
   "metadata": {},
   "source": [
    "### Podprogrami"
   ]
  },
  {
   "cell_type": "markdown",
   "metadata": {},
   "source": [
    "Del programa, ki ga želimo večkrat uporabiti, lahko zapakiramo v *podprogram* (*Sub VI*).\n",
    "\n",
    "Označimo del programa, ki ga želimo zapakirati v podprogram, in izberemo `Edit -> Create SubVI`."
   ]
  },
  {
   "cell_type": "markdown",
   "metadata": {},
   "source": [
    "```{admonition} Naloga 3\n",
    ":class: seealso\n",
    "Primer LabView program, v katerm smo del kode s pretvorbo med enotami v nalogi 1 zapakirali v podprogram.\n",
    "```\n",
    "\n",
    "![sub-vi](./images/01/03_sub_vi.png)"
   ]
  },
  {
   "cell_type": "markdown",
   "metadata": {},
   "source": [
    "```{note}\n",
    "Po spremembi podprograma je včasih potrebno posodobiti tudi povezavo na podprogram v glavnem programu. To storimo z desnim klikom na ikono podprograma in `Relink to SubVi`.\n",
    "```"
   ]
  },
  {
   "cell_type": "markdown",
   "metadata": {},
   "source": [
    "### Krmilni stavki"
   ]
  },
  {
   "cell_type": "markdown",
   "metadata": {},
   "source": [
    "Krmilni stavki, podobno kot v drugih programskih jezikih, vplivajo na potek izvajanja LabView programa.\n",
    "\n",
    "Krmilne stavke najdemo v funkcijskem meniju blokovnega diagrama, v zavihku *Structures*.\n",
    "\n",
    "![structures](./images/01/structures.png)"
   ]
  },
  {
   "cell_type": "markdown",
   "metadata": {},
   "source": [
    "#### Stavek `Case`"
   ]
  },
  {
   "cell_type": "markdown",
   "metadata": {},
   "source": [
    "V `Case` stavku se, na podlagi izbranega pogoja, odločimo, katerega izmed vnaprej določenih delov programa izvedemo.\n",
    "\n",
    "(`Case` satvek v LabView-u je torej podoben Python `if` stavku.)"
   ]
  },
  {
   "cell_type": "markdown",
   "metadata": {},
   "source": [
    "```{admonition} Naloga 4\n",
    ":class: important\n",
    "Program pretvorbe enot iz naloge 1 razširimo s `Case` stavkom, s katerim na podlagi kontrolnega staikala vklopimo / izklopimo pretvorbo enot.\n",
    "\n",
    "*Namig:* Začnete lahko z dodajanjem gumba v krmilni plošči, ki ga kasneje ustrezno povežete s `Case` stavkom.\n",
    "```"
   ]
  },
  {
   "cell_type": "markdown",
   "metadata": {},
   "source": [
    "```{admonition} Naloga 5\n",
    ":class: seealso\n",
    "Podprogram iz naloge 3 nadgradimo s `Case` stavkom. Pri tem moramo podprogramu dodati dodaten vhodni parameter, ki ga lahko povežemo s stikalom na krmilni plošči.\n",
    "```\n",
    "\n",
    "![podprogram-case](./images/01/05_podprogram_case.png)"
   ]
  },
  {
   "cell_type": "markdown",
   "metadata": {},
   "source": [
    "### Zanke (`For`, `While`)\n",
    "\n",
    "Zanke so namenjene iteracijam / ponovljenim izvedbam dela programa v zanki."
   ]
  },
  {
   "cell_type": "markdown",
   "metadata": {},
   "source": [
    "#### `For` zanka\n",
    "\n",
    "`For` zanke so namenjene iteriranju s točno določenim številom ponovitev."
   ]
  },
  {
   "cell_type": "markdown",
   "metadata": {},
   "source": [
    "```{admonition} Naloga 6\n",
    ":class: seealso\n",
    "Ustvarimo `for` zanko, s katero iteriramo po polju numerčnih vrednosti (`Array`).\n",
    "\n",
    "Polje najlažje pripravimo v krmilni plošči (zavihek \"Data Containers\"), in ga napolnimo z željenimi kontrolnimi elementi (npr. `Numeric control`).\n",
    "```\n",
    "\n",
    "![array_for_loop.png](./images/01/07_array_for_loop.png)"
   ]
  },
  {
   "cell_type": "markdown",
   "metadata": {},
   "source": [
    "```{admonition} Naloga 7\n",
    ":class: important\n",
    "Program za pretvorbo enot hitrosti iz naloge 4 dopolnite tako, da bo vrednosti hitrosti v [m/s] prebiral iz numeričnega polja, in v `for` zanki ustrezno posodabljal prikaz na številčnici.\n",
    "```\n",
    "\n",
    "![n07-definicija](./images/01/n07_def_pretvorba_hitrosti_zanka.png)"
   ]
  },
  {
   "cell_type": "markdown",
   "metadata": {},
   "source": [
    "#### `While` zanka\n",
    "\n",
    "`While` zanko običajno uporabimo, ko želimo izvajanje programa ponavljati, dokler ga sami ne prekinemo."
   ]
  },
  {
   "cell_type": "markdown",
   "metadata": {},
   "source": [
    "```{admonition} Naloga 8\n",
    ":class: important\n",
    "Program za pretvorbo enot hitrosti iz naloge 4 dopolnite tako, da bo ves čas preverjal izbrano trenutno vrednost hitrosti v [m/s] in v zanki ustrezno posodabljal prikaz na številčnici.\n",
    "\n",
    "*Namig*: Vsi krmilni elementi, katerih vrednosti želite brati sproti, naj bodo znotraj zanke.\n",
    "\n",
    "*Dodatek*: Poskusite za prikaz vrednosti namesto številčnice uporabiti graf (`Waveform Chart`).\n",
    "```"
   ]
  },
  {
   "cell_type": "markdown",
   "metadata": {},
   "source": [
    "## Generiranje signalov\n",
    "\n",
    "Čeprav bomo LabView običajno uporabljali za zajem signalov, včasih želimo signale z njim tudi generirati.\n",
    "\n",
    "Uporabimo lahko funkcijo [\"Simulate Signal\"](https://knowledge.ni.com/KnowledgeArticleDetails?id=kA00Z0000019NVOSA2&l=sl-SI) (`Express -> Input -> Simulate Sig`).\n",
    "\n",
    "![simulate-signal](./images/01/simulate_signal.png)"
   ]
  },
  {
   "cell_type": "markdown",
   "metadata": {},
   "source": [
    "```{admonition} Naloga 9\n",
    ":class: seealso\n",
    "Kontinuirano generirajmo in na grafu prikazujmo 1 sekundo (1000 vzorcev pri frekvenci vzorčenja 1000 Hz) sinusnega signala s frekvenco 1.5 Hz in amplitudo 2.\n",
    "```\n",
    "![simulate-signal-loop](./images/01/09_simulate_signal_loop.png)"
   ]
  },
  {
   "cell_type": "markdown",
   "metadata": {},
   "source": [
    "## Shranjevanje podatkov v datoteke\n",
    "\n",
    "Čeprav LabView vključuje zmogljive funkcije, namenjena procesiranju signalov, bomo pri tem predmetu za obdelavo zajetih podatkov običajno uporaibli druga orodja (Python).\n",
    "\n",
    "Podatke, zajete z LabView-om, zato želimo zapisati v datoteke tako, da jih bomo kasneje lahko prebirali obdelali.\n",
    "\n",
    "Uporabna funkcija za shranjevanje podatkov v LabView-u je \"Write To Measurement File\" (`File I/O -> Write Meas File`).\n",
    "\n",
    "![write-lvm](./images/01/write_meas_file.png)"
   ]
  },
  {
   "cell_type": "markdown",
   "metadata": {},
   "source": [
    "```{admonition} Naloga 10\n",
    ":class: seealso\n",
    "Generiran sinusni signal shranjujmo v tekstovni obliki (`.lvm`). Odseke signala, ki jih generiramo v zanki, pripenjajmo na konec datoteke, če ta že obstaja.\n",
    "```\n",
    "![simulate-signal-loop](./images/01/10_simulate_signal_save.png)"
   ]
  },
  {
   "cell_type": "markdown",
   "metadata": {},
   "source": [
    "```{note}\n",
    "Za branje zapisanih `.lvm` datotek v programskem jeziku Python lahko uporabite paket [lvm_read](https://pypi.org/project/lvm-read/). Svetujemo, da pogledate tudi primer uporabe na [tejle povezavi](https://github.com/openmodal/lvm_read/blob/master/Showcase%20lvm_read.ipynb). Osnovna uporaba je prikazana spodaj.\n",
    "```"
   ]
  },
  {
   "cell_type": "code",
   "execution_count": 3,
   "metadata": {},
   "outputs": [
    {
     "name": "stdout",
     "output_type": "stream",
     "text": [
      "dict_keys(['Decimal_Separator', 'Writer_Version', 'Reader_Version', 'Separator', 'Multi_Headings', 'X_Columns', 'Time_Pref', 'Operator', 'Date', 'Time', 0, 'Segments'])\n"
     ]
    }
   ],
   "source": [
    "import lvm_read\n",
    "file = 'data/01/sinus.lvm'\n",
    "saved_data = lvm_read.read(file)\n",
    "print(saved_data.keys())"
   ]
  },
  {
   "cell_type": "markdown",
   "metadata": {},
   "source": [
    "## Domača naloga"
   ]
  },
  {
   "cell_type": "markdown",
   "metadata": {},
   "source": [
    "```{admonition} Domača naloga\n",
    ":class: warning\n",
    "Z uporabo prikazanih funkcij v LabView-u pripravite signal s predpisanimi parametri (individualizirane podatke najdete v [e-učilnici](https://e-ucilnica.fs.uni-lj.si/).\n",
    "\n",
    "V kratkem poročilu v okolju Jupyter Notebook *(od 3 do 10 celic s kodo)* raziščite in prikažite postopek branja in grafičnega prikaza shranjenega signala (pri oddaji poročila ne pozabite tudi na berljivo datoteko, `.html` ali `.pdf` - glejte [navodila za oddajo domačih nalog](intro-domace-naloge)).\n",
    "\n",
    "**Dodatek**: Raziščite uporabo poljubne izbrane metode procesiranja signalov (na primer iz modula [`scipy.signal`](https://docs.scipy.org/doc/scipy/reference/signal.html) ali [`scipy.fft`](https://docs.scipy.org/doc/scipy/reference/fft.html)). Prikažite uporabo metode na shranjenem signalu.\n",
    "```"
   ]
  },
  {
   "cell_type": "code",
   "execution_count": null,
   "metadata": {},
   "outputs": [],
   "source": []
  }
 ],
 "metadata": {
  "kernelspec": {
   "display_name": "Python 3 (ipykernel)",
   "language": "python",
   "name": "python3"
  },
  "language_info": {
   "codemirror_mode": {
    "name": "ipython",
    "version": 3
   },
   "file_extension": ".py",
   "mimetype": "text/x-python",
   "name": "python",
   "nbconvert_exporter": "python",
   "pygments_lexer": "ipython3",
   "version": "3.10.1"
  }
 },
 "nbformat": 4,
 "nbformat_minor": 4
}
